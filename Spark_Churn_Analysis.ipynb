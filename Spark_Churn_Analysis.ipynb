{
 "cells": [
  {
   "cell_type": "markdown",
   "metadata": {},
   "source": [
    "# <span style=\"color:green\"> Sparkify Project Workspace </span> </h1>"
   ]
  },
  {
   "cell_type": "markdown",
   "metadata": {},
   "source": [
    "### Project Overview\n",
    "This analysis focuses on predicting user churn within a music application using Apache Spark and Python. The project originated from the need to understand user behavior and identify patterns that lead to subscription cancellations. The primary dataset, \"medium-sparkify-event-data.json,\" records every user action within the application. The analysis is conducted in Jupyter Notebook, leveraging the Spark framework.\n",
    "\n",
    "### Problem Statement\n",
    "The goal is to develop a predictive model that identifies potential churners based on user interactions. By understanding the features that contribute to churn, the project aims to assist in implementing targeted strategies for user retention.\n",
    "\n",
    "### Metrics\n",
    "The project utilizes the F1 score as the primary metric to measure the performance of the predictive models. In a classification problem like churn prediction, F1 score provides a balanced assessment, especially in scenarios with imbalanced classes. It is chosen over accuracy to account for situations where false positives and false negatives hold varying degrees of importance.## Import necessary libraries\n"
   ]
  },
  {
   "cell_type": "code",
   "execution_count": null,
   "metadata": {},
   "outputs": [],
   "source": [
    "# Install required libraries\n",
    "#!pip install pyspark\n",
    "#!pip install matplotlib\n",
    "#!pip install pandas\n",
    "#!pip install ipython\n",
    "#!pip install regex\n",
    "#!pip install DateTime\n",
    "#!pip install numpy"
   ]
  },
  {
   "cell_type": "code",
   "execution_count": 3,
   "metadata": {},
   "outputs": [],
   "source": [
    "import os\n",
    "import sys\n",
    "\n",
    "os.environ['PYSPARK_PYTHON'] = sys.executable\n",
    "os.environ['PYSPARK_DRIVER_PYTHON'] = sys.executable"
   ]
  },
  {
   "cell_type": "code",
   "execution_count": 4,
   "metadata": {},
   "outputs": [],
   "source": [
    "#import ibmos2spark, os\n",
    "\n",
    "## IBM Cloud Object Storage (COS) credentials\n",
    "#metadata = {\n",
    "#    'endpoint': 'https://s3.private.eu-de.cloud-object-storage.appdomain.cloud',\n",
    "#    'service_id': 'iam-ServiceId-45f608af-e504-4a7b-bace-37aec030b482',\n",
    "#    'iam_service_endpoint': 'https://iam.cloud.ibm.com/oidc/token',\n",
    "#    'api_key': '9iYHmxmI7JXEtlA5kxALJOOTDysO7Ifv4edkkcpDc2ym'\n",
    "#}\n",
    "#\n",
    "## COS configuration\n",
    "#configuration_name = 'os_0b007a47f9e648fa8220dacec0258f51_configs'\n",
    "#cos = ibmos2spark.CloudObjectStorage(sc, metadata, configuration_name, 'bluemix_cos')\n"
   ]
  },
  {
   "cell_type": "code",
   "execution_count": 5,
   "metadata": {},
   "outputs": [],
   "source": [
    "# Import necessary libraries\n",
    "from pyspark.sql import SparkSession\n",
    "from pyspark.sql.functions import avg, col, concat, desc, explode, lit, min, max, split, udf, from_unixtime, when, sum, count\n",
    "from pyspark.sql.types import IntegerType\n",
    "from pyspark.sql import functions as F\n",
    "from pyspark.sql.functions import min as Fmin, max as Fmax, sum as Fsum, round as Fround\n",
    "from pyspark.sql import Window\n",
    "from pyspark.sql.window import Window\n",
    "\n",
    "from pyspark.ml.tuning import CrossValidator, ParamGridBuilder\n",
    "from pyspark.ml import Pipeline\n",
    "from pyspark.ml.feature import VectorAssembler, StandardScaler\n",
    "from pyspark.ml.evaluation import MulticlassClassificationEvaluator, BinaryClassificationEvaluator     \n",
    "from pyspark.ml import Pipeline                                                                                      \n",
    "from pyspark.ml.classification import LogisticRegression, RandomForestClassifier, GBTClassifier                     \n",
    "\n",
    "import pandas as pd                                                                                                          \n",
    "from IPython.display import display, HTML                                                                               \n",
    "import re                                                                                                                     \n",
    "import datetime                                                                                                         \n",
    "import numpy as np                                                                                           \n",
    "import matplotlib.pyplot as plt                                                                                  \n",
    "%matplotlib inline                                                                         "
   ]
  },
  {
   "cell_type": "code",
   "execution_count": 6,
   "metadata": {},
   "outputs": [],
   "source": [
    "# Create a Spark session\n",
    "# - `master(\"local\")`: Specifies that Spark should run in local mode using all available cores\n",
    "# - `appName(\"Sparkify Project\")`: Sets a user-defined name for the application in the Spark UI\n",
    "# - `config(\"spark.sql.repl.eagerEval.enabled\", True)`: Enables eager evaluation in Spark SQL REPL\n",
    "#   (Read-Eval-Print Loop), which can improve interactivity in a Jupyter Notebook\n",
    "# - `getOrCreate()`: Retrieves an existing Spark session or creates a new one if it doesn't exist\n",
    "\n",
    "spark = SparkSession.builder \\\n",
    "    .master(\"local\") \\\n",
    "    .appName(\"Sparkify Project\") \\\n",
    "    .config(\"spark.sql.repl.eagerEval.enabled\", True) \\\n",
    "    .getOrCreate()\n"
   ]
  },
  {
   "cell_type": "markdown",
   "metadata": {},
   "source": [
    "# <span style=\"color:green\">Import and View Data </span> </h1>\n"
   ]
  },
  {
   "cell_type": "markdown",
   "metadata": {},
   "source": [
    "### Sub Part - 1: Import Data"
   ]
  },
  {
   "cell_type": "code",
   "execution_count": 7,
   "metadata": {},
   "outputs": [],
   "source": [
    "# File path for the Stack Overflow data\n",
    "# The variable 'stack_overflow_data' holds the name or path of the JSON file\n",
    "stack_overflow_data = 'mini_sparkify_event_data.json'\n"
   ]
  },
  {
   "cell_type": "code",
   "execution_count": 8,
   "metadata": {},
   "outputs": [
    {
     "data": {
      "text/html": [
       "<table border='1'>\n",
       "<tr><th>artist</th><th>auth</th><th>firstName</th><th>gender</th><th>itemInSession</th><th>lastName</th><th>length</th><th>level</th><th>location</th><th>method</th><th>page</th><th>registration</th><th>sessionId</th><th>song</th><th>status</th><th>ts</th><th>userAgent</th><th>userId</th></tr>\n",
       "<tr><td>Martha Tilston</td><td>Logged In</td><td>Colin</td><td>M</td><td>50</td><td>Freeman</td><td>277.89016</td><td>paid</td><td>Bakersfield, CA</td><td>PUT</td><td>NextSong</td><td>1538173362000</td><td>29</td><td>Rockpools</td><td>200</td><td>1538352117000</td><td>Mozilla/5.0 (Wind...</td><td>30</td></tr>\n",
       "<tr><td>Five Iron Frenzy</td><td>Logged In</td><td>Micah</td><td>M</td><td>79</td><td>Long</td><td>236.09424</td><td>free</td><td>Boston-Cambridge-...</td><td>PUT</td><td>NextSong</td><td>1538331630000</td><td>8</td><td>Canada</td><td>200</td><td>1538352180000</td><td>&quot;Mozilla/5.0 (Win...</td><td>9</td></tr>\n",
       "<tr><td>Adam Lambert</td><td>Logged In</td><td>Colin</td><td>M</td><td>51</td><td>Freeman</td><td>282.8273</td><td>paid</td><td>Bakersfield, CA</td><td>PUT</td><td>NextSong</td><td>1538173362000</td><td>29</td><td>Time For Miracles</td><td>200</td><td>1538352394000</td><td>Mozilla/5.0 (Wind...</td><td>30</td></tr>\n",
       "<tr><td>Enigma</td><td>Logged In</td><td>Micah</td><td>M</td><td>80</td><td>Long</td><td>262.71302</td><td>free</td><td>Boston-Cambridge-...</td><td>PUT</td><td>NextSong</td><td>1538331630000</td><td>8</td><td>Knocking On Forbi...</td><td>200</td><td>1538352416000</td><td>&quot;Mozilla/5.0 (Win...</td><td>9</td></tr>\n",
       "<tr><td>Daft Punk</td><td>Logged In</td><td>Colin</td><td>M</td><td>52</td><td>Freeman</td><td>223.60771</td><td>paid</td><td>Bakersfield, CA</td><td>PUT</td><td>NextSong</td><td>1538173362000</td><td>29</td><td>Harder Better Fas...</td><td>200</td><td>1538352676000</td><td>Mozilla/5.0 (Wind...</td><td>30</td></tr>\n",
       "<tr><td>The All-American ...</td><td>Logged In</td><td>Micah</td><td>M</td><td>81</td><td>Long</td><td>208.29995</td><td>free</td><td>Boston-Cambridge-...</td><td>PUT</td><td>NextSong</td><td>1538331630000</td><td>8</td><td>Don't Leave Me</td><td>200</td><td>1538352678000</td><td>&quot;Mozilla/5.0 (Win...</td><td>9</td></tr>\n",
       "<tr><td>The Velvet Underg...</td><td>Logged In</td><td>Micah</td><td>M</td><td>82</td><td>Long</td><td>260.46649</td><td>free</td><td>Boston-Cambridge-...</td><td>PUT</td><td>NextSong</td><td>1538331630000</td><td>8</td><td>Run Run Run</td><td>200</td><td>1538352886000</td><td>&quot;Mozilla/5.0 (Win...</td><td>9</td></tr>\n",
       "<tr><td>Starflyer 59</td><td>Logged In</td><td>Colin</td><td>M</td><td>53</td><td>Freeman</td><td>185.44281</td><td>paid</td><td>Bakersfield, CA</td><td>PUT</td><td>NextSong</td><td>1538173362000</td><td>29</td><td>Passengers (Old A...</td><td>200</td><td>1538352899000</td><td>Mozilla/5.0 (Wind...</td><td>30</td></tr>\n",
       "<tr><td>NULL</td><td>Logged In</td><td>Colin</td><td>M</td><td>54</td><td>Freeman</td><td>NULL</td><td>paid</td><td>Bakersfield, CA</td><td>PUT</td><td>Add to Playlist</td><td>1538173362000</td><td>29</td><td>NULL</td><td>200</td><td>1538352905000</td><td>Mozilla/5.0 (Wind...</td><td>30</td></tr>\n",
       "<tr><td>Frumpies</td><td>Logged In</td><td>Colin</td><td>M</td><td>55</td><td>Freeman</td><td>134.47791</td><td>paid</td><td>Bakersfield, CA</td><td>PUT</td><td>NextSong</td><td>1538173362000</td><td>29</td><td>Fuck Kitty</td><td>200</td><td>1538353084000</td><td>Mozilla/5.0 (Wind...</td><td>30</td></tr>\n",
       "<tr><td>Britt Nicole</td><td>Logged In</td><td>Micah</td><td>M</td><td>83</td><td>Long</td><td>229.8771</td><td>free</td><td>Boston-Cambridge-...</td><td>PUT</td><td>NextSong</td><td>1538331630000</td><td>8</td><td>Walk On The Water</td><td>200</td><td>1538353146000</td><td>&quot;Mozilla/5.0 (Win...</td><td>9</td></tr>\n",
       "<tr><td>NULL</td><td>Logged In</td><td>Micah</td><td>M</td><td>84</td><td>Long</td><td>NULL</td><td>free</td><td>Boston-Cambridge-...</td><td>GET</td><td>Roll Advert</td><td>1538331630000</td><td>8</td><td>NULL</td><td>200</td><td>1538353150000</td><td>&quot;Mozilla/5.0 (Win...</td><td>9</td></tr>\n",
       "<tr><td>Edward Sharpe &amp; T...</td><td>Logged In</td><td>Colin</td><td>M</td><td>56</td><td>Freeman</td><td>223.58159</td><td>paid</td><td>Bakersfield, CA</td><td>PUT</td><td>NextSong</td><td>1538173362000</td><td>29</td><td>Jade</td><td>200</td><td>1538353218000</td><td>Mozilla/5.0 (Wind...</td><td>30</td></tr>\n",
       "<tr><td>Tesla</td><td>Logged In</td><td>Micah</td><td>M</td><td>85</td><td>Long</td><td>201.06404</td><td>free</td><td>Boston-Cambridge-...</td><td>PUT</td><td>NextSong</td><td>1538331630000</td><td>8</td><td>Gettin' Better</td><td>200</td><td>1538353375000</td><td>&quot;Mozilla/5.0 (Win...</td><td>9</td></tr>\n",
       "<tr><td>NULL</td><td>Logged In</td><td>Micah</td><td>M</td><td>86</td><td>Long</td><td>NULL</td><td>free</td><td>Boston-Cambridge-...</td><td>PUT</td><td>Thumbs Up</td><td>1538331630000</td><td>8</td><td>NULL</td><td>307</td><td>1538353376000</td><td>&quot;Mozilla/5.0 (Win...</td><td>9</td></tr>\n",
       "<tr><td>Stan Mosley</td><td>Logged In</td><td>Colin</td><td>M</td><td>57</td><td>Freeman</td><td>246.69995</td><td>paid</td><td>Bakersfield, CA</td><td>PUT</td><td>NextSong</td><td>1538173362000</td><td>29</td><td>So-Called Friends</td><td>200</td><td>1538353441000</td><td>Mozilla/5.0 (Wind...</td><td>30</td></tr>\n",
       "<tr><td>Florence + The Ma...</td><td>Logged In</td><td>Micah</td><td>M</td><td>87</td><td>Long</td><td>168.64608</td><td>free</td><td>Boston-Cambridge-...</td><td>PUT</td><td>NextSong</td><td>1538331630000</td><td>8</td><td>You've Got The Love</td><td>200</td><td>1538353576000</td><td>&quot;Mozilla/5.0 (Win...</td><td>9</td></tr>\n",
       "<tr><td>Tokyo Police Club</td><td>Logged In</td><td>Ashlynn</td><td>F</td><td>0</td><td>Williams</td><td>166.1122</td><td>free</td><td>Tallahassee, FL</td><td>PUT</td><td>NextSong</td><td>1537365219000</td><td>217</td><td>Citizens Of Tomorrow</td><td>200</td><td>1538353668000</td><td>&quot;Mozilla/5.0 (Mac...</td><td>74</td></tr>\n",
       "<tr><td>Orishas</td><td>Logged In</td><td>Colin</td><td>M</td><td>58</td><td>Freeman</td><td>222.22322</td><td>paid</td><td>Bakersfield, CA</td><td>PUT</td><td>NextSong</td><td>1538173362000</td><td>29</td><td>Represent</td><td>200</td><td>1538353687000</td><td>Mozilla/5.0 (Wind...</td><td>30</td></tr>\n",
       "<tr><td>Ratatat</td><td>Logged In</td><td>Micah</td><td>M</td><td>88</td><td>Long</td><td>229.77261</td><td>free</td><td>Boston-Cambridge-...</td><td>PUT</td><td>NextSong</td><td>1538331630000</td><td>8</td><td>Swisha</td><td>200</td><td>1538353744000</td><td>&quot;Mozilla/5.0 (Win...</td><td>9</td></tr>\n",
       "</table>\n",
       "only showing top 20 rows\n"
      ],
      "text/plain": [
       "+--------------------+---------+---------+------+-------------+--------+---------+-----+--------------------+------+---------------+-------------+---------+--------------------+------+-------------+--------------------+------+\n",
       "|              artist|     auth|firstName|gender|itemInSession|lastName|   length|level|            location|method|           page| registration|sessionId|                song|status|           ts|           userAgent|userId|\n",
       "+--------------------+---------+---------+------+-------------+--------+---------+-----+--------------------+------+---------------+-------------+---------+--------------------+------+-------------+--------------------+------+\n",
       "|      Martha Tilston|Logged In|    Colin|     M|           50| Freeman|277.89016| paid|     Bakersfield, CA|   PUT|       NextSong|1538173362000|       29|           Rockpools|   200|1538352117000|Mozilla/5.0 (Wind...|    30|\n",
       "|    Five Iron Frenzy|Logged In|    Micah|     M|           79|    Long|236.09424| free|Boston-Cambridge-...|   PUT|       NextSong|1538331630000|        8|              Canada|   200|1538352180000|\"Mozilla/5.0 (Win...|     9|\n",
       "|        Adam Lambert|Logged In|    Colin|     M|           51| Freeman| 282.8273| paid|     Bakersfield, CA|   PUT|       NextSong|1538173362000|       29|   Time For Miracles|   200|1538352394000|Mozilla/5.0 (Wind...|    30|\n",
       "|              Enigma|Logged In|    Micah|     M|           80|    Long|262.71302| free|Boston-Cambridge-...|   PUT|       NextSong|1538331630000|        8|Knocking On Forbi...|   200|1538352416000|\"Mozilla/5.0 (Win...|     9|\n",
       "|           Daft Punk|Logged In|    Colin|     M|           52| Freeman|223.60771| paid|     Bakersfield, CA|   PUT|       NextSong|1538173362000|       29|Harder Better Fas...|   200|1538352676000|Mozilla/5.0 (Wind...|    30|\n",
       "|The All-American ...|Logged In|    Micah|     M|           81|    Long|208.29995| free|Boston-Cambridge-...|   PUT|       NextSong|1538331630000|        8|      Don't Leave Me|   200|1538352678000|\"Mozilla/5.0 (Win...|     9|\n",
       "|The Velvet Underg...|Logged In|    Micah|     M|           82|    Long|260.46649| free|Boston-Cambridge-...|   PUT|       NextSong|1538331630000|        8|         Run Run Run|   200|1538352886000|\"Mozilla/5.0 (Win...|     9|\n",
       "|        Starflyer 59|Logged In|    Colin|     M|           53| Freeman|185.44281| paid|     Bakersfield, CA|   PUT|       NextSong|1538173362000|       29|Passengers (Old A...|   200|1538352899000|Mozilla/5.0 (Wind...|    30|\n",
       "|                NULL|Logged In|    Colin|     M|           54| Freeman|     NULL| paid|     Bakersfield, CA|   PUT|Add to Playlist|1538173362000|       29|                NULL|   200|1538352905000|Mozilla/5.0 (Wind...|    30|\n",
       "|            Frumpies|Logged In|    Colin|     M|           55| Freeman|134.47791| paid|     Bakersfield, CA|   PUT|       NextSong|1538173362000|       29|          Fuck Kitty|   200|1538353084000|Mozilla/5.0 (Wind...|    30|\n",
       "|        Britt Nicole|Logged In|    Micah|     M|           83|    Long| 229.8771| free|Boston-Cambridge-...|   PUT|       NextSong|1538331630000|        8|   Walk On The Water|   200|1538353146000|\"Mozilla/5.0 (Win...|     9|\n",
       "|                NULL|Logged In|    Micah|     M|           84|    Long|     NULL| free|Boston-Cambridge-...|   GET|    Roll Advert|1538331630000|        8|                NULL|   200|1538353150000|\"Mozilla/5.0 (Win...|     9|\n",
       "|Edward Sharpe & T...|Logged In|    Colin|     M|           56| Freeman|223.58159| paid|     Bakersfield, CA|   PUT|       NextSong|1538173362000|       29|                Jade|   200|1538353218000|Mozilla/5.0 (Wind...|    30|\n",
       "|               Tesla|Logged In|    Micah|     M|           85|    Long|201.06404| free|Boston-Cambridge-...|   PUT|       NextSong|1538331630000|        8|      Gettin' Better|   200|1538353375000|\"Mozilla/5.0 (Win...|     9|\n",
       "|                NULL|Logged In|    Micah|     M|           86|    Long|     NULL| free|Boston-Cambridge-...|   PUT|      Thumbs Up|1538331630000|        8|                NULL|   307|1538353376000|\"Mozilla/5.0 (Win...|     9|\n",
       "|         Stan Mosley|Logged In|    Colin|     M|           57| Freeman|246.69995| paid|     Bakersfield, CA|   PUT|       NextSong|1538173362000|       29|   So-Called Friends|   200|1538353441000|Mozilla/5.0 (Wind...|    30|\n",
       "|Florence + The Ma...|Logged In|    Micah|     M|           87|    Long|168.64608| free|Boston-Cambridge-...|   PUT|       NextSong|1538331630000|        8| You've Got The Love|   200|1538353576000|\"Mozilla/5.0 (Win...|     9|\n",
       "|   Tokyo Police Club|Logged In|  Ashlynn|     F|            0|Williams| 166.1122| free|     Tallahassee, FL|   PUT|       NextSong|1537365219000|      217|Citizens Of Tomorrow|   200|1538353668000|\"Mozilla/5.0 (Mac...|    74|\n",
       "|             Orishas|Logged In|    Colin|     M|           58| Freeman|222.22322| paid|     Bakersfield, CA|   PUT|       NextSong|1538173362000|       29|           Represent|   200|1538353687000|Mozilla/5.0 (Wind...|    30|\n",
       "|             Ratatat|Logged In|    Micah|     M|           88|    Long|229.77261| free|Boston-Cambridge-...|   PUT|       NextSong|1538331630000|        8|              Swisha|   200|1538353744000|\"Mozilla/5.0 (Win...|     9|\n",
       "+--------------------+---------+---------+------+-------------+--------+---------+-----+--------------------+------+---------------+-------------+---------+--------------------+------+-------------+--------------------+------+\n",
       "only showing top 20 rows"
      ]
     },
     "execution_count": 8,
     "metadata": {},
     "output_type": "execute_result"
    }
   ],
   "source": [
    "# Read JSON data into a Spark DataFrame\n",
    "# - `spark.read.json(...)`: Reads JSON data and creates a Spark DataFrame\n",
    "#   The data is loaded from the specified Cloud Object Storage (COS) URL using IBM COS SDK.\n",
    "#   'stack_overflow_data' is the name or path of the JSON file.\n",
    "#   'cos.url(...)' constructs the full COS URL using the COS bucket name 'sparkify-donotdelete-pr-r0ihlkw8u9vvbn'.\n",
    "#user_log = spark.read.json(cos.url(stack_overflow_data, 'sparkify-donotdelete-pr-r0ihlkw8u9vvbn'))\n",
    "user_log = spark.read.json(stack_overflow_data)\n",
    "# Persist the DataFrame in memory\n",
    "# - `user_log.persist()`: Persists the DataFrame in memory, optimizing performance for subsequent operations\n",
    "#   by avoiding redundant reads from the storage.\n",
    "user_log.persist()\n"
   ]
  },
  {
   "cell_type": "markdown",
   "metadata": {},
   "source": [
    "### Sub Part - 2: View Data"
   ]
  },
  {
   "cell_type": "code",
   "execution_count": 9,
   "metadata": {},
   "outputs": [
    {
     "name": "stdout",
     "output_type": "stream",
     "text": [
      "Number of entries in the dataset is 286500.\n"
     ]
    }
   ],
   "source": [
    "# Print the number of entries in the dataset\n",
    "# - `user_log.count()`: Returns the number of rows in the DataFrame, representing the count of entries in the dataset.\n",
    "# - `print(...)`: Displays the count in the console.\n",
    "print(\"Number of entries in the dataset is {}.\".format(user_log.count()))"
   ]
  },
  {
   "cell_type": "code",
   "execution_count": 10,
   "metadata": {},
   "outputs": [
    {
     "name": "stdout",
     "output_type": "stream",
     "text": [
      "root\n",
      " |-- artist: string (nullable = true)\n",
      " |-- auth: string (nullable = true)\n",
      " |-- firstName: string (nullable = true)\n",
      " |-- gender: string (nullable = true)\n",
      " |-- itemInSession: long (nullable = true)\n",
      " |-- lastName: string (nullable = true)\n",
      " |-- length: double (nullable = true)\n",
      " |-- level: string (nullable = true)\n",
      " |-- location: string (nullable = true)\n",
      " |-- method: string (nullable = true)\n",
      " |-- page: string (nullable = true)\n",
      " |-- registration: long (nullable = true)\n",
      " |-- sessionId: long (nullable = true)\n",
      " |-- song: string (nullable = true)\n",
      " |-- status: long (nullable = true)\n",
      " |-- ts: long (nullable = true)\n",
      " |-- userAgent: string (nullable = true)\n",
      " |-- userId: string (nullable = true)\n",
      "\n"
     ]
    }
   ],
   "source": [
    "# Print the schema of the DataFrame\n",
    "# - `user_log.printSchema()`: Displays the schema of the DataFrame, providing information about the data types\n",
    "#   and structure of each column in the dataset.\n",
    "user_log.printSchema()"
   ]
  },
  {
   "cell_type": "code",
   "execution_count": 11,
   "metadata": {},
   "outputs": [
    {
     "data": {
      "text/plain": [
       "[Row(artist='Martha Tilston', auth='Logged In', firstName='Colin', gender='M', itemInSession=50, lastName='Freeman', length=277.89016, level='paid', location='Bakersfield, CA', method='PUT', page='NextSong', registration=1538173362000, sessionId=29, song='Rockpools', status=200, ts=1538352117000, userAgent='Mozilla/5.0 (Windows NT 6.1; WOW64; rv:31.0) Gecko/20100101 Firefox/31.0', userId='30')]"
      ]
     },
     "execution_count": 11,
     "metadata": {},
     "output_type": "execute_result"
    }
   ],
   "source": [
    "#Print the first row as example\n",
    "user_log.take(1)"
   ]
  },
  {
   "cell_type": "code",
   "execution_count": 12,
   "metadata": {},
   "outputs": [],
   "source": [
    "#Convert user_log to pandas dataframe to better visualize\n",
    "user_log_pandas = user_log.toPandas()"
   ]
  },
  {
   "cell_type": "markdown",
   "metadata": {},
   "source": [
    "### First General Analysis"
   ]
  },
  {
   "cell_type": "code",
   "execution_count": 13,
   "metadata": {},
   "outputs": [
    {
     "data": {
      "text/html": [
       "<div>\n",
       "<style scoped>\n",
       "    .dataframe tbody tr th:only-of-type {\n",
       "        vertical-align: middle;\n",
       "    }\n",
       "\n",
       "    .dataframe tbody tr th {\n",
       "        vertical-align: top;\n",
       "    }\n",
       "\n",
       "    .dataframe thead th {\n",
       "        text-align: right;\n",
       "    }\n",
       "</style>\n",
       "<table border=\"1\" class=\"dataframe\">\n",
       "  <thead>\n",
       "    <tr style=\"text-align: right;\">\n",
       "      <th></th>\n",
       "      <th>itemInSession</th>\n",
       "      <th>length</th>\n",
       "      <th>registration</th>\n",
       "      <th>sessionId</th>\n",
       "      <th>status</th>\n",
       "      <th>ts</th>\n",
       "    </tr>\n",
       "  </thead>\n",
       "  <tbody>\n",
       "    <tr>\n",
       "      <th>count</th>\n",
       "      <td>286500.000000</td>\n",
       "      <td>228108.000000</td>\n",
       "      <td>2.781540e+05</td>\n",
       "      <td>286500.000000</td>\n",
       "      <td>286500.000000</td>\n",
       "      <td>2.865000e+05</td>\n",
       "    </tr>\n",
       "    <tr>\n",
       "      <th>mean</th>\n",
       "      <td>114.414213</td>\n",
       "      <td>249.117182</td>\n",
       "      <td>1.535359e+12</td>\n",
       "      <td>1041.526555</td>\n",
       "      <td>210.054597</td>\n",
       "      <td>1.540957e+12</td>\n",
       "    </tr>\n",
       "    <tr>\n",
       "      <th>std</th>\n",
       "      <td>129.767262</td>\n",
       "      <td>99.235179</td>\n",
       "      <td>3.291322e+09</td>\n",
       "      <td>726.776263</td>\n",
       "      <td>31.505078</td>\n",
       "      <td>1.507544e+09</td>\n",
       "    </tr>\n",
       "    <tr>\n",
       "      <th>min</th>\n",
       "      <td>0.000000</td>\n",
       "      <td>0.783220</td>\n",
       "      <td>1.521381e+12</td>\n",
       "      <td>1.000000</td>\n",
       "      <td>200.000000</td>\n",
       "      <td>1.538352e+12</td>\n",
       "    </tr>\n",
       "    <tr>\n",
       "      <th>25%</th>\n",
       "      <td>27.000000</td>\n",
       "      <td>199.888530</td>\n",
       "      <td>1.533522e+12</td>\n",
       "      <td>336.000000</td>\n",
       "      <td>200.000000</td>\n",
       "      <td>1.539697e+12</td>\n",
       "    </tr>\n",
       "    <tr>\n",
       "      <th>50%</th>\n",
       "      <td>70.000000</td>\n",
       "      <td>234.500770</td>\n",
       "      <td>1.536664e+12</td>\n",
       "      <td>1013.000000</td>\n",
       "      <td>200.000000</td>\n",
       "      <td>1.540932e+12</td>\n",
       "    </tr>\n",
       "    <tr>\n",
       "      <th>75%</th>\n",
       "      <td>156.250000</td>\n",
       "      <td>277.158730</td>\n",
       "      <td>1.537672e+12</td>\n",
       "      <td>1675.000000</td>\n",
       "      <td>200.000000</td>\n",
       "      <td>1.542266e+12</td>\n",
       "    </tr>\n",
       "    <tr>\n",
       "      <th>max</th>\n",
       "      <td>1321.000000</td>\n",
       "      <td>3024.665670</td>\n",
       "      <td>1.543247e+12</td>\n",
       "      <td>2474.000000</td>\n",
       "      <td>404.000000</td>\n",
       "      <td>1.543799e+12</td>\n",
       "    </tr>\n",
       "  </tbody>\n",
       "</table>\n",
       "</div>"
      ],
      "text/plain": [
       "       itemInSession         length  registration      sessionId  \\\n",
       "count  286500.000000  228108.000000  2.781540e+05  286500.000000   \n",
       "mean      114.414213     249.117182  1.535359e+12    1041.526555   \n",
       "std       129.767262      99.235179  3.291322e+09     726.776263   \n",
       "min         0.000000       0.783220  1.521381e+12       1.000000   \n",
       "25%        27.000000     199.888530  1.533522e+12     336.000000   \n",
       "50%        70.000000     234.500770  1.536664e+12    1013.000000   \n",
       "75%       156.250000     277.158730  1.537672e+12    1675.000000   \n",
       "max      1321.000000    3024.665670  1.543247e+12    2474.000000   \n",
       "\n",
       "              status            ts  \n",
       "count  286500.000000  2.865000e+05  \n",
       "mean      210.054597  1.540957e+12  \n",
       "std        31.505078  1.507544e+09  \n",
       "min       200.000000  1.538352e+12  \n",
       "25%       200.000000  1.539697e+12  \n",
       "50%       200.000000  1.540932e+12  \n",
       "75%       200.000000  1.542266e+12  \n",
       "max       404.000000  1.543799e+12  "
      ]
     },
     "execution_count": 13,
     "metadata": {},
     "output_type": "execute_result"
    }
   ],
   "source": [
    "#Statistics of Numeric Columns\n",
    "user_log_pandas.describe()"
   ]
  },
  {
   "cell_type": "code",
   "execution_count": 74,
   "metadata": {},
   "outputs": [
    {
     "data": {
      "text/html": [
       "<div>\n",
       "<style scoped>\n",
       "    .dataframe tbody tr th:only-of-type {\n",
       "        vertical-align: middle;\n",
       "    }\n",
       "\n",
       "    .dataframe tbody tr th {\n",
       "        vertical-align: top;\n",
       "    }\n",
       "\n",
       "    .dataframe thead th {\n",
       "        text-align: right;\n",
       "    }\n",
       "</style>\n",
       "<table border=\"1\" class=\"dataframe\">\n",
       "  <thead>\n",
       "    <tr style=\"text-align: right;\">\n",
       "      <th></th>\n",
       "      <th>Column Name</th>\n",
       "      <th>Unique Values</th>\n",
       "      <th>Number of Unique Value</th>\n",
       "      <th>Number of Null</th>\n",
       "    </tr>\n",
       "  </thead>\n",
       "  <tbody>\n",
       "    <tr>\n",
       "      <th>0</th>\n",
       "      <td>artist</td>\n",
       "      <td>[Martha Tilston, Five Iron Frenzy, Adam Lamber...</td>\n",
       "      <td>17656</td>\n",
       "      <td>58392</td>\n",
       "    </tr>\n",
       "    <tr>\n",
       "      <th>1</th>\n",
       "      <td>auth</td>\n",
       "      <td>[Logged In, Logged Out, Cancelled, Guest]</td>\n",
       "      <td>4</td>\n",
       "      <td>0</td>\n",
       "    </tr>\n",
       "    <tr>\n",
       "      <th>2</th>\n",
       "      <td>firstName</td>\n",
       "      <td>[Colin, Micah, Ashlynn, Alexi, None, Warren, A...</td>\n",
       "      <td>190</td>\n",
       "      <td>8346</td>\n",
       "    </tr>\n",
       "    <tr>\n",
       "      <th>3</th>\n",
       "      <td>gender</td>\n",
       "      <td>[M, F, None]</td>\n",
       "      <td>3</td>\n",
       "      <td>8346</td>\n",
       "    </tr>\n",
       "    <tr>\n",
       "      <th>4</th>\n",
       "      <td>itemInSession</td>\n",
       "      <td>[50, 79, 51, 80, 52, 81, 82, 53, 54, 55, 83, 8...</td>\n",
       "      <td>1322</td>\n",
       "      <td>0</td>\n",
       "    </tr>\n",
       "    <tr>\n",
       "      <th>5</th>\n",
       "      <td>lastName</td>\n",
       "      <td>[Freeman, Long, Williams, Warren, None, Miller...</td>\n",
       "      <td>174</td>\n",
       "      <td>8346</td>\n",
       "    </tr>\n",
       "    <tr>\n",
       "      <th>6</th>\n",
       "      <td>length</td>\n",
       "      <td>[277.89016, 236.09424, 282.8273, 262.71302, 22...</td>\n",
       "      <td>14866</td>\n",
       "      <td>58392</td>\n",
       "    </tr>\n",
       "    <tr>\n",
       "      <th>7</th>\n",
       "      <td>level</td>\n",
       "      <td>[paid, free]</td>\n",
       "      <td>2</td>\n",
       "      <td>0</td>\n",
       "    </tr>\n",
       "    <tr>\n",
       "      <th>8</th>\n",
       "      <td>location</td>\n",
       "      <td>[Bakersfield, CA, Boston-Cambridge-Newton, MA-...</td>\n",
       "      <td>115</td>\n",
       "      <td>8346</td>\n",
       "    </tr>\n",
       "    <tr>\n",
       "      <th>9</th>\n",
       "      <td>method</td>\n",
       "      <td>[PUT, GET]</td>\n",
       "      <td>2</td>\n",
       "      <td>0</td>\n",
       "    </tr>\n",
       "    <tr>\n",
       "      <th>10</th>\n",
       "      <td>page</td>\n",
       "      <td>[NextSong, Add to Playlist, Roll Advert, Thumb...</td>\n",
       "      <td>22</td>\n",
       "      <td>0</td>\n",
       "    </tr>\n",
       "    <tr>\n",
       "      <th>11</th>\n",
       "      <td>registration</td>\n",
       "      <td>[1538173362000.0, 1538331630000.0, 15373652190...</td>\n",
       "      <td>226</td>\n",
       "      <td>8346</td>\n",
       "    </tr>\n",
       "    <tr>\n",
       "      <th>12</th>\n",
       "      <td>sessionId</td>\n",
       "      <td>[29, 8, 217, 53, 240, 100, 187, 241, 27, 257, ...</td>\n",
       "      <td>2354</td>\n",
       "      <td>0</td>\n",
       "    </tr>\n",
       "    <tr>\n",
       "      <th>13</th>\n",
       "      <td>song</td>\n",
       "      <td>[Rockpools, Canada, Time For Miracles, Knockin...</td>\n",
       "      <td>58481</td>\n",
       "      <td>58392</td>\n",
       "    </tr>\n",
       "    <tr>\n",
       "      <th>14</th>\n",
       "      <td>status</td>\n",
       "      <td>[200, 307, 404]</td>\n",
       "      <td>3</td>\n",
       "      <td>0</td>\n",
       "    </tr>\n",
       "    <tr>\n",
       "      <th>15</th>\n",
       "      <td>ts</td>\n",
       "      <td>[1538352117000, 1538352180000, 1538352394000, ...</td>\n",
       "      <td>277447</td>\n",
       "      <td>0</td>\n",
       "    </tr>\n",
       "    <tr>\n",
       "      <th>16</th>\n",
       "      <td>userAgent</td>\n",
       "      <td>[Mozilla/5.0 (Windows NT 6.1; WOW64; rv:31.0) ...</td>\n",
       "      <td>57</td>\n",
       "      <td>8346</td>\n",
       "    </tr>\n",
       "    <tr>\n",
       "      <th>17</th>\n",
       "      <td>userId</td>\n",
       "      <td>[30, 9, 74, 54, , 4, 101, 78, 88, 95, 25, 142,...</td>\n",
       "      <td>226</td>\n",
       "      <td>0</td>\n",
       "    </tr>\n",
       "  </tbody>\n",
       "</table>\n",
       "</div>"
      ],
      "text/plain": [
       "      Column Name                                      Unique Values  \\\n",
       "0          artist  [Martha Tilston, Five Iron Frenzy, Adam Lamber...   \n",
       "1            auth          [Logged In, Logged Out, Cancelled, Guest]   \n",
       "2       firstName  [Colin, Micah, Ashlynn, Alexi, None, Warren, A...   \n",
       "3          gender                                       [M, F, None]   \n",
       "4   itemInSession  [50, 79, 51, 80, 52, 81, 82, 53, 54, 55, 83, 8...   \n",
       "5        lastName  [Freeman, Long, Williams, Warren, None, Miller...   \n",
       "6          length  [277.89016, 236.09424, 282.8273, 262.71302, 22...   \n",
       "7           level                                       [paid, free]   \n",
       "8        location  [Bakersfield, CA, Boston-Cambridge-Newton, MA-...   \n",
       "9          method                                         [PUT, GET]   \n",
       "10           page  [NextSong, Add to Playlist, Roll Advert, Thumb...   \n",
       "11   registration  [1538173362000.0, 1538331630000.0, 15373652190...   \n",
       "12      sessionId  [29, 8, 217, 53, 240, 100, 187, 241, 27, 257, ...   \n",
       "13           song  [Rockpools, Canada, Time For Miracles, Knockin...   \n",
       "14         status                                    [200, 307, 404]   \n",
       "15             ts  [1538352117000, 1538352180000, 1538352394000, ...   \n",
       "16      userAgent  [Mozilla/5.0 (Windows NT 6.1; WOW64; rv:31.0) ...   \n",
       "17         userId  [30, 9, 74, 54, , 4, 101, 78, 88, 95, 25, 142,...   \n",
       "\n",
       "    Number of Unique Value  Number of Null  \n",
       "0                    17656           58392  \n",
       "1                        4               0  \n",
       "2                      190            8346  \n",
       "3                        3            8346  \n",
       "4                     1322               0  \n",
       "5                      174            8346  \n",
       "6                    14866           58392  \n",
       "7                        2               0  \n",
       "8                      115            8346  \n",
       "9                        2               0  \n",
       "10                      22               0  \n",
       "11                     226            8346  \n",
       "12                    2354               0  \n",
       "13                   58481           58392  \n",
       "14                       3               0  \n",
       "15                  277447               0  \n",
       "16                      57            8346  \n",
       "17                     226               0  "
      ]
     },
     "execution_count": 74,
     "metadata": {},
     "output_type": "execute_result"
    }
   ],
   "source": [
    "import pandas as pd\n",
    "\n",
    "# Create a summary table for DataFrame analysis\n",
    "# - `pd.DataFrame(...)`: Initializes an empty Pandas DataFrame with specified column names.\n",
    "#   This DataFrame will be used to store information about each column in the user_log_pandas DataFrame.\n",
    "\n",
    "summary_data = []\n",
    "\n",
    "# Iterate through each column in the user_log_pandas DataFrame\n",
    "for column in user_log_pandas.columns:\n",
    "    # Extract unique values and calculate the count\n",
    "    unique_values = user_log_pandas[column].unique()\n",
    "    unique_count = len(unique_values)\n",
    "    \n",
    "    # Count the number of null values in the column\n",
    "    isnull_values = user_log_pandas[column].isnull().sum()\n",
    "    \n",
    "    # Append information about the column to the summary_data list\n",
    "    summary_data.append({\n",
    "        'Column Name': column,\n",
    "        'Unique Values': unique_values,\n",
    "        'Number of Unique Value': unique_count,\n",
    "        'Number of Null': isnull_values\n",
    "    })\n",
    "\n",
    "# Create the summary table DataFrame from the list of dictionaries\n",
    "summary_table = pd.DataFrame(summary_data)\n",
    "\n",
    "# Display the summary table\n",
    "summary_table\n"
   ]
  },
  {
   "cell_type": "markdown",
   "metadata": {},
   "source": [
    "It seems some users have no userId. We need to look at that users. Let's check which pages they have visited."
   ]
  },
  {
   "cell_type": "code",
   "execution_count": 16,
   "metadata": {},
   "outputs": [
    {
     "name": "stdout",
     "output_type": "stream",
     "text": [
      "+-------------------+\n",
      "|               page|\n",
      "+-------------------+\n",
      "|               Home|\n",
      "|              About|\n",
      "|Submit Registration|\n",
      "|              Login|\n",
      "|           Register|\n",
      "|               Help|\n",
      "|              Error|\n",
      "+-------------------+\n",
      "\n"
     ]
    }
   ],
   "source": [
    "# Filter rows with missing userId\n",
    "users_with_no_id = user_log.filter(col(\"userId\")==\"\")\n",
    "\n",
    "# Show the pages visited by users with no userId\n",
    "pages_visited_by_users_with_no_id = (\n",
    "    users_with_no_id\n",
    "    .select(\"page\")\n",
    "    .distinct()\n",
    ")\n",
    "pages_visited_by_users_with_no_id.show()"
   ]
  },
  {
   "cell_type": "markdown",
   "metadata": {},
   "source": [
    "It can be seen that that users with no userId belongs to user just visiting website or registering users. So in analysis these rows will be removed and assigned to **user_log_valid**."
   ]
  },
  {
   "cell_type": "markdown",
   "metadata": {},
   "source": [
    "\n",
    "# <span style=\"color:green\">Data Analysis and Modification of User-log Dataframe</span> </h1>"
   ]
  },
  {
   "cell_type": "markdown",
   "metadata": {},
   "source": [
    "### Analysis 1: Gender Distribution"
   ]
  },
  {
   "cell_type": "code",
   "execution_count": 17,
   "metadata": {},
   "outputs": [
    {
     "name": "stdout",
     "output_type": "stream",
     "text": [
      "Number of women: 104.\n",
      "Number of men: 121.\n"
     ]
    }
   ],
   "source": [
    "# Count the number of unique women and men in the user_log DataFrame\n",
    "num_of_women = user_log.filter(user_log.gender == 'F').select('userId').dropDuplicates().count()\n",
    "num_of_men = user_log.filter(user_log.gender == 'M').select('userId').dropDuplicates().count()\n",
    "\n",
    "# Print the results\n",
    "print(\"Number of women: {}.\\nNumber of men: {}.\".format(num_of_women, num_of_men))\n"
   ]
  },
  {
   "cell_type": "code",
   "execution_count": 18,
   "metadata": {},
   "outputs": [
    {
     "data": {
      "image/png": "[encoded data removed]",
      "text/plain": [
       "<Figure size 640x480 with 1 Axes>"
      ]
     },
     "metadata": {},
     "output_type": "display_data"
    }
   ],
   "source": [
    "# Matplotlib visualization\n",
    "labels = ['Women', 'Men']\n",
    "values = [num_of_women, num_of_men]\n",
    "\n",
    "plt.bar(labels, values, color=['pink', 'blue'])\n",
    "plt.title('Distribution of Men and Women')\n",
    "plt.xlabel('Gender')\n",
    "plt.ylabel('Number of Users')\n",
    "plt.show()"
   ]
  },
  {
   "cell_type": "markdown",
   "metadata": {},
   "source": [
    "It seems balanced."
   ]
  },
  {
   "cell_type": "markdown",
   "metadata": {},
   "source": [
    "### Analysis 2: Unique Number of Users"
   ]
  },
  {
   "cell_type": "code",
   "execution_count": 19,
   "metadata": {},
   "outputs": [
    {
     "name": "stdout",
     "output_type": "stream",
     "text": [
      "Number of unique users is 226.\n"
     ]
    }
   ],
   "source": [
    "# - `user_log.select('userId')`: Selects the 'userId' column from the DataFrame.\n",
    "# - `.dropDuplicates()`: Removes duplicate entries based on the 'userId' column.\n",
    "# - `.count()`: Counts the number of unique users in the DataFrame.\n",
    "\n",
    "num_of_unique_users = user_log.select('userId').dropDuplicates().count()\n",
    "\n",
    "# Print the result\n",
    "print(\"Number of unique users is {}.\".format(num_of_unique_users))"
   ]
  },
  {
   "cell_type": "markdown",
   "metadata": {},
   "source": [
    "### Analysis 3: Users who downgrade their subscription."
   ]
  },
  {
   "cell_type": "code",
   "execution_count": 20,
   "metadata": {},
   "outputs": [
    {
     "name": "stdout",
     "output_type": "stream",
     "text": [
      "Number of people who cancelled their account is 63.\n"
     ]
    }
   ],
   "source": [
    "# - `user_log.filter(\"page = 'Submit Downgrade'\")`: Filters the DataFrame to include only rows where the 'page'\n",
    "#   column has the value 'Submit Downgrade', representing users who have submitted a downgrade.\n",
    "# - `.count()`: Counts the number of rows in the filtered DataFrame, representing the number of users who\n",
    "#   have cancelled their account.\n",
    "\n",
    "num_of_cancelers = user_log.filter(\"page = 'Submit Downgrade'\").count()\n",
    "\n",
    "# Print the result\n",
    "print(\"Number of people who cancelled their account is {}.\".format(num_of_cancelers))\n"
   ]
  },
  {
   "cell_type": "markdown",
   "metadata": {},
   "source": [
    "**63 churners and 163 current user. It seems unbalanced. That's why using F1 metrics is a good choice for the analysis of the results.**"
   ]
  },
  {
   "cell_type": "markdown",
   "metadata": {},
   "source": [
    "### Analysis 4: How many user has no userId?"
   ]
  },
  {
   "cell_type": "code",
   "execution_count": 21,
   "metadata": {},
   "outputs": [
    {
     "name": "stdout",
     "output_type": "stream",
     "text": [
      "Number of records without userId is:\n",
      "\n",
      "+------+-----+\n",
      "|userId|count|\n",
      "+------+-----+\n",
      "|      | 8346|\n",
      "+------+-----+\n",
      "only showing top 1 row\n",
      "\n"
     ]
    }
   ],
   "source": [
    "# - `user_log.groupBy(\"userId\").count()`: Groups the DataFrame by the 'userId' column and counts the number of records\n",
    "#   for each unique user.\n",
    "# - `.orderBy(\"userId\")`: Orders the result by 'userId' for better readability.\n",
    "\n",
    "num_of_records_with_no_id = user_log.groupBy(\"userId\").count().orderBy(\"userId\")\n",
    "\n",
    "# Print a message indicating the number of records without 'userId'\n",
    "print(\"Number of records without userId is:\\n\")\n",
    "\n",
    "# Show the first row of the result (assuming the result is ordered by 'userId')\n",
    "num_of_records_with_no_id.show(1)\n"
   ]
  },
  {
   "cell_type": "markdown",
   "metadata": {},
   "source": [
    "### Analysis 5: Most Popular Pages"
   ]
  },
  {
   "cell_type": "code",
   "execution_count": 22,
   "metadata": {},
   "outputs": [
    {
     "name": "stdout",
     "output_type": "stream",
     "text": [
      "+---------------+------+\n",
      "|           page| count|\n",
      "+---------------+------+\n",
      "|       NextSong|228108|\n",
      "|           Home| 14457|\n",
      "|      Thumbs Up| 12551|\n",
      "|Add to Playlist|  6526|\n",
      "|     Add Friend|  4277|\n",
      "|    Roll Advert|  3933|\n",
      "|          Login|  3241|\n",
      "|         Logout|  3226|\n",
      "|    Thumbs Down|  2546|\n",
      "|      Downgrade|  2055|\n",
      "+---------------+------+\n",
      "only showing top 10 rows\n",
      "\n"
     ]
    }
   ],
   "source": [
    "# - `user_log.groupBy(\"page\").count()`: Groups the DataFrame by the 'page' column and counts the occurrences of each page.\n",
    "# - `.orderBy(col(\"count\").desc())`: Orders the result by the count of each page in descending order, placing the\n",
    "#   most visited pages at the top.\n",
    "\n",
    "popular_pages = user_log.groupBy(\"page\").count().orderBy(col(\"count\").desc())\n",
    "\n",
    "# Show the top 10 most visited pages\n",
    "popular_pages.show(10)"
   ]
  },
  {
   "cell_type": "code",
   "execution_count": 23,
   "metadata": {},
   "outputs": [
    {
     "data": {
      "image/png": "[encoded data removed]",
      "text/plain": [
       "<Figure size 1000x600 with 1 Axes>"
      ]
     },
     "metadata": {},
     "output_type": "display_data"
    }
   ],
   "source": [
    "# Convert the PySpark DataFrame to a Pandas DataFrame for visualization\n",
    "pd_popular_pages = popular_pages.toPandas()\n",
    "\n",
    "# Matplotlib visualization\n",
    "plt.figure(figsize=(10, 6))\n",
    "plt.bar(pd_popular_pages['page'][:10], pd_popular_pages['count'][:10], color='skyblue')\n",
    "plt.title('Top 10 Most Visited Pages')\n",
    "plt.xlabel('Page')\n",
    "plt.ylabel('Number of Visits')\n",
    "plt.xticks(rotation=45, ha='right')\n",
    "plt.tight_layout()\n",
    "plt.show()"
   ]
  },
  {
   "cell_type": "markdown",
   "metadata": {},
   "source": [
    "### Analysis 6: Number of User Logs vs. States"
   ]
  },
  {
   "cell_type": "code",
   "execution_count": 24,
   "metadata": {},
   "outputs": [
    {
     "name": "stdout",
     "output_type": "stream",
     "text": [
      "+--------------------+-----+\n",
      "|            location|count|\n",
      "+--------------------+-----+\n",
      "|Los Angeles-Long ...|30131|\n",
      "|New York-Newark-J...|23684|\n",
      "|Boston-Cambridge-...|13873|\n",
      "|Houston-The Woodl...| 9499|\n",
      "|                NULL| 8346|\n",
      "|Charlotte-Concord...| 7780|\n",
      "|Dallas-Fort Worth...| 7605|\n",
      "|Louisville/Jeffer...| 6880|\n",
      "|Philadelphia-Camd...| 5890|\n",
      "|Chicago-Napervill...| 5114|\n",
      "+--------------------+-----+\n",
      "only showing top 10 rows\n",
      "\n"
     ]
    }
   ],
   "source": [
    "# - `user_log.groupBy(\"location\").count()`: Groups the DataFrame by the 'location' column and counts the number\n",
    "#   of occurrences for each state.\n",
    "# - `.orderBy(col(\"count\").desc())`: Orders the result by the count of user logs in each state in descending order,\n",
    "#   showing the states with the highest number of user log at the top.\n",
    "\n",
    "user_location_distribution = user_log.groupBy(\"location\").count().orderBy(col(\"count\").desc())\n",
    "\n",
    "# Show the top 10 states with the highest number of users\n",
    "user_location_distribution.show(10)"
   ]
  },
  {
   "cell_type": "markdown",
   "metadata": {},
   "source": [
    "### Analysis 7: Most Popular Artists"
   ]
  },
  {
   "cell_type": "code",
   "execution_count": 25,
   "metadata": {},
   "outputs": [
    {
     "name": "stdout",
     "output_type": "stream",
     "text": [
      "+--------------------+-----+\n",
      "|              artist|count|\n",
      "+--------------------+-----+\n",
      "|                NULL|58392|\n",
      "|       Kings Of Leon| 1841|\n",
      "|            Coldplay| 1813|\n",
      "|Florence + The Ma...| 1236|\n",
      "|       Dwight Yoakam| 1135|\n",
      "|            BjÃÂ¶rk| 1133|\n",
      "|      The Black Keys| 1125|\n",
      "|                Muse| 1090|\n",
      "|       Justin Bieber| 1044|\n",
      "|        Jack Johnson| 1007|\n",
      "+--------------------+-----+\n",
      "only showing top 10 rows\n",
      "\n"
     ]
    }
   ],
   "source": [
    "# - `user_log.groupBy(\"artist\").count()`: Groups the DataFrame by the 'artist' column and counts the occurrences\n",
    "#   of each artist.\n",
    "# - `.orderBy(col(\"count\").desc())`: Orders the result by the count of listens for each artist in descending order,\n",
    "#   displaying the most listened-to artists at the top.\n",
    "\n",
    "popular_artists = user_log.groupBy(\"artist\").count().orderBy(col(\"count\").desc())\n",
    "\n",
    "# Show the top 10 most listened-to artists\n",
    "popular_artists.show(10)"
   ]
  },
  {
   "cell_type": "markdown",
   "metadata": {},
   "source": [
    "### Analysis 8: Most Popular Browsers"
   ]
  },
  {
   "cell_type": "code",
   "execution_count": 26,
   "metadata": {},
   "outputs": [
    {
     "name": "stdout",
     "output_type": "stream",
     "text": [
      "+--------------------+-----+\n",
      "|           userAgent|count|\n",
      "+--------------------+-----+\n",
      "|\"Mozilla/5.0 (Win...|22751|\n",
      "|\"Mozilla/5.0 (Mac...|19611|\n",
      "|\"Mozilla/5.0 (Mac...|18448|\n",
      "|\"Mozilla/5.0 (Mac...|17348|\n",
      "|Mozilla/5.0 (Wind...|16700|\n",
      "|\"Mozilla/5.0 (Win...|15395|\n",
      "|\"Mozilla/5.0 (Win...|14598|\n",
      "|Mozilla/5.0 (Maci...|10300|\n",
      "|\"Mozilla/5.0 (iPa...| 8912|\n",
      "|Mozilla/5.0 (comp...| 8624|\n",
      "+--------------------+-----+\n",
      "only showing top 10 rows\n",
      "\n"
     ]
    }
   ],
   "source": [
    "# - `user_log.groupBy(\"userAgent\").count()`: Groups the DataFrame by the 'userAgent' column and counts the occurrences\n",
    "#   of each user agent.\n",
    "# - `.orderBy(col(\"count\").desc())`: Orders the result by the count of occurrences for each user agent in descending order,\n",
    "#   showing the user agents with the highest counts at the top.\n",
    "\n",
    "user_agent_distribution = user_log.groupBy(\"userAgent\").count().orderBy(col(\"count\").desc())\n",
    "\n",
    "# Show the top 10 user agents with the highest occurrence counts\n",
    "user_agent_distribution.show(10)"
   ]
  },
  {
   "cell_type": "markdown",
   "metadata": {},
   "source": [
    "Looks like Mozilla has domination on the app."
   ]
  },
  {
   "cell_type": "markdown",
   "metadata": {},
   "source": [
    "### Analysis 9: Most Popular Songs"
   ]
  },
  {
   "cell_type": "code",
   "execution_count": 27,
   "metadata": {},
   "outputs": [
    {
     "name": "stdout",
     "output_type": "stream",
     "text": [
      "+--------------------+-----+\n",
      "|                song|count|\n",
      "+--------------------+-----+\n",
      "|                NULL|58392|\n",
      "|      You're The One| 1153|\n",
      "|                Undo| 1026|\n",
      "|             Revelry|  854|\n",
      "|       Sehr kosmisch|  728|\n",
      "|Horn Concerto No....|  641|\n",
      "|Dog Days Are Over...|  574|\n",
      "|             Secrets|  466|\n",
      "|        Use Somebody|  459|\n",
      "|              Canada|  435|\n",
      "+--------------------+-----+\n",
      "only showing top 10 rows\n",
      "\n"
     ]
    }
   ],
   "source": [
    "# - `user_log.groupBy(\"song\").count()`: Groups the DataFrame by the 'song' column and counts the occurrences\n",
    "#   of each song.\n",
    "# - `.orderBy(col(\"count\").desc())`: Orders the result by the count of listens for each song in descending order,\n",
    "#   displaying the most listened-to songs at the top.\n",
    "\n",
    "popular_songs = user_log.groupBy(\"song\").count().orderBy(col(\"count\").desc())\n",
    "\n",
    "# Show the top 10 most listened-to songs\n",
    "popular_songs.show(10)"
   ]
  },
  {
   "cell_type": "markdown",
   "metadata": {},
   "source": [
    "### Analysis 10: Hourly Average Listened Music"
   ]
  },
  {
   "cell_type": "code",
   "execution_count": 28,
   "metadata": {},
   "outputs": [],
   "source": [
    "# Define a user-defined function (UDF) to extract the hour from a timestamp\n",
    "# - `udf(lambda x: datetime.datetime.fromtimestamp(x / 1000.0).hour)`: Creates a UDF using a lambda function\n",
    "#   to convert a timestamp (in milliseconds) to a datetime object and extract the hour.\n",
    "\n",
    "get_hour = udf(lambda x: datetime.datetime.fromtimestamp(x / 1000.0).hour)"
   ]
  },
  {
   "cell_type": "code",
   "execution_count": 29,
   "metadata": {},
   "outputs": [],
   "source": [
    "# Add a new column \"hour\" to the user_log DataFrame\n",
    "# - `user_log.withColumn(\"hour\", get_hour(user_log.ts))`: Adds a new column named \"hour\" to the DataFrame by applying\n",
    "#   the previously defined UDF (`get_hour`) to the 'ts' (timestamp) column.\n",
    "\n",
    "user_log = user_log.withColumn(\"hour\", get_hour(user_log.ts))"
   ]
  },
  {
   "cell_type": "code",
   "execution_count": 30,
   "metadata": {},
   "outputs": [
    {
     "name": "stdout",
     "output_type": "stream",
     "text": [
      "+----+-----+\n",
      "|hour|count|\n",
      "+----+-----+\n",
      "|   0|10458|\n",
      "|   1|10122|\n",
      "|   2| 9630|\n",
      "|   3| 9062|\n",
      "|   4| 8388|\n",
      "|   5| 8336|\n",
      "|   6| 8355|\n",
      "|   7| 8147|\n",
      "|   8| 8178|\n",
      "|   9| 8054|\n",
      "+----+-----+\n",
      "only showing top 10 rows\n",
      "\n"
     ]
    }
   ],
   "source": [
    "# - `user_log.filter(user_log.page == \"NextSong\")`: Filters the DataFrame to include only rows where the 'page' column\n",
    "#   has the value \"NextSong,\" representing instances of users playing songs.\n",
    "# - `.groupby(user_log.hour).count()`: Groups the filtered DataFrame by the 'hour' column and counts the occurrences\n",
    "#   of songs played in each hour.\n",
    "# - `.orderBy(user_log.hour.cast(\"float\"))`: Orders the result by the 'hour' column in numerical order.\n",
    "\n",
    "songs_in_hour = user_log.filter(user_log.page == \"NextSong\").groupby(user_log.hour).count().orderBy(user_log.hour.cast(\"float\"))\n",
    "\n",
    "# Show the top 10 hours with the highest number of songs played\n",
    "songs_in_hour.show(10)\n"
   ]
  },
  {
   "cell_type": "code",
   "execution_count": 31,
   "metadata": {},
   "outputs": [
    {
     "data": {
      "image/png": "[encoded data removed]",
      "text/plain": [
       "<Figure size 640x480 with 1 Axes>"
      ]
     },
     "metadata": {},
     "output_type": "display_data"
    }
   ],
   "source": [
    "# Convert the songs_in_hour DataFrame to a Pandas DataFrame\n",
    "# - `songs_in_hour.toPandas()`: Converts the Spark DataFrame 'songs_in_hour' to a Pandas DataFrame.\n",
    "\n",
    "songs_in_hour_pd = songs_in_hour.toPandas()\n",
    "\n",
    "# Convert the 'hour' column to numeric type\n",
    "# - `pd.to_numeric(songs_in_hour_pd.hour)`: Converts the 'hour' column in the Pandas DataFrame to numeric type.\n",
    "\n",
    "songs_in_hour_pd.hour = pd.to_numeric(songs_in_hour_pd.hour)\n",
    "\n",
    "# Create a scatter plot to visualize the distribution of songs played across hours\n",
    "# - `plt.scatter(...)`: Creates a scatter plot using the 'hour' column as the x-axis and the 'count' column as the y-axis.\n",
    "# - `plt.xlabel(\"Hour\")`: Sets the x-axis label to \"Hour.\"\n",
    "# - `plt.ylabel(\"Songs played\")`: Sets the y-axis label to \"Songs played.\"\n",
    "\n",
    "plt.scatter(songs_in_hour_pd[\"hour\"], songs_in_hour_pd[\"count\"])\n",
    "plt.xlabel(\"Time in Hour\")\n",
    "plt.ylabel(\"Songs Listened during Hours\")\n",
    "# Add data labels to each point on the scatter plot\n",
    "for i, txt in enumerate(songs_in_hour_pd[\"count\"]):\n",
    "    plt.annotate(txt, (songs_in_hour_pd[\"hour\"][i], songs_in_hour_pd[\"count\"][i]), textcoords=\"offset points\", xytext=(0,5), ha='center')"
   ]
  },
  {
   "cell_type": "markdown",
   "metadata": {},
   "source": [
    "### Data Wrangling 1: Transformating Registration dates"
   ]
  },
  {
   "cell_type": "code",
   "execution_count": 32,
   "metadata": {
    "scrolled": true
   },
   "outputs": [
    {
     "name": "stdout",
     "output_type": "stream",
     "text": [
      "+-------------+----------------------+\n",
      "| registration|registration_timestamp|\n",
      "+-------------+----------------------+\n",
      "|1538173362000|   2018-09-29 01:22:42|\n",
      "|1538331630000|   2018-09-30 21:20:30|\n",
      "|1538173362000|   2018-09-29 01:22:42|\n",
      "|1538331630000|   2018-09-30 21:20:30|\n",
      "|1538173362000|   2018-09-29 01:22:42|\n",
      "|1538331630000|   2018-09-30 21:20:30|\n",
      "|1538331630000|   2018-09-30 21:20:30|\n",
      "|1538173362000|   2018-09-29 01:22:42|\n",
      "|1538173362000|   2018-09-29 01:22:42|\n",
      "|1538173362000|   2018-09-29 01:22:42|\n",
      "+-------------+----------------------+\n",
      "only showing top 10 rows\n",
      "\n"
     ]
    }
   ],
   "source": [
    "# Convert the 'registration' timestamp to a human-readable format\n",
    "# - `user_log.withColumn(\"registration_timestamp\", from_unixtime(col(\"registration\") / 1000))`:\n",
    "#   Adds a new column \"registration_timestamp\" to the user_log DataFrame, converting the 'registration' timestamp\n",
    "#   (in milliseconds) to a human-readable format using the from_unixtime function.\n",
    "\n",
    "user_log = user_log.withColumn(\"registration_timestamp\", from_unixtime(col(\"registration\") / 1000))\n",
    "\n",
    "# Select and display the 'registration' timestamp and the new 'registration_timestamp' column for the first 10 rows\n",
    "# - `user_log.select(\"registration\", \"registration_timestamp\")`: Selects the specified columns.\n",
    "# - `.show(10)`: Displays the first 10 rows of the resulting DataFrame.\n",
    "\n",
    "user_log.select(\"registration\", \"registration_timestamp\").show(10)\n"
   ]
  },
  {
   "cell_type": "markdown",
   "metadata": {},
   "source": [
    "### Data Wrangling 2: Transforming timestamps of Logs"
   ]
  },
  {
   "cell_type": "code",
   "execution_count": 33,
   "metadata": {
    "scrolled": true
   },
   "outputs": [
    {
     "name": "stdout",
     "output_type": "stream",
     "text": [
      "+-------------+-------------------+\n",
      "|           ts|       ts_timestamp|\n",
      "+-------------+-------------------+\n",
      "|1538352117000|2018-10-01 03:01:57|\n",
      "|1538352180000|2018-10-01 03:03:00|\n",
      "|1538352394000|2018-10-01 03:06:34|\n",
      "|1538352416000|2018-10-01 03:06:56|\n",
      "|1538352676000|2018-10-01 03:11:16|\n",
      "|1538352678000|2018-10-01 03:11:18|\n",
      "|1538352886000|2018-10-01 03:14:46|\n",
      "|1538352899000|2018-10-01 03:14:59|\n",
      "|1538352905000|2018-10-01 03:15:05|\n",
      "|1538353084000|2018-10-01 03:18:04|\n",
      "+-------------+-------------------+\n",
      "only showing top 10 rows\n",
      "\n"
     ]
    }
   ],
   "source": [
    "# Convert the 'ts' timestamp to a human-readable format\n",
    "# - `user_log.withColumn(\"ts_timestamp\", from_unixtime(col(\"ts\") / 1000))`:\n",
    "#   Adds a new column \"ts_timestamp\" to the user_log DataFrame, converting the 'ts' timestamp (in milliseconds)\n",
    "#   to a human-readable format using the from_unixtime function.\n",
    "\n",
    "user_log = user_log.withColumn(\"ts_timestamp\", from_unixtime(col(\"ts\") / 1000))\n",
    "\n",
    "# Select and display the 'ts' timestamp and the new 'ts_timestamp' column for the first 10 rows\n",
    "# - `user_log.select(\"ts\", \"ts_timestamp\")`: Selects the specified columns.\n",
    "# - `.show(10)`: Displays the first 10 rows of the resulting DataFrame.\n",
    "\n",
    "user_log.select(\"ts\", \"ts_timestamp\").show(10)\n"
   ]
  },
  {
   "cell_type": "markdown",
   "metadata": {},
   "source": [
    "### Data Wrangling 3: Remove rows with no userId"
   ]
  },
  {
   "cell_type": "code",
   "execution_count": 34,
   "metadata": {},
   "outputs": [
    {
     "name": "stdout",
     "output_type": "stream",
     "text": [
      "286500\n",
      "+------+\n",
      "|userId|\n",
      "+------+\n",
      "|      |\n",
      "|    10|\n",
      "|   100|\n",
      "|100001|\n",
      "|100002|\n",
      "|100003|\n",
      "|100004|\n",
      "|100005|\n",
      "|100006|\n",
      "|100007|\n",
      "+------+\n",
      "only showing top 10 rows\n",
      "\n"
     ]
    }
   ],
   "source": [
    "# Remove rows with missing values in specified columns\n",
    "# - `user_log.dropna(how=\"any\", subset=[\"userId\", \"sessionId\"])`:\n",
    "#   Creates a new DataFrame 'user_log_valid' by removing rows with missing values in the specified columns (\"userId\", \"sessionId\").\n",
    "\n",
    "user_log_valid = user_log.dropna(how=\"any\", subset=[\"userId\", \"sessionId\"])\n",
    "\n",
    "# Display the count of rows in the cleaned DataFrame\n",
    "# - `print(user_log_valid.count())`: Prints the count of rows in the cleaned DataFrame 'user_log_valid'.\n",
    "\n",
    "print(user_log_valid.count())\n",
    "\n",
    "# Display unique user IDs in the original DataFrame\n",
    "# - `user_log.select(\"userId\").dropDuplicates().sort(\"userId\").show(10)`:\n",
    "#   Selects the 'userId' column, drops duplicate values, sorts the result by 'userId', and shows the first 10 rows.\n",
    "\n",
    "user_log.select(\"userId\").dropDuplicates().sort(\"userId\").show(10)\n"
   ]
  },
  {
   "cell_type": "code",
   "execution_count": 35,
   "metadata": {},
   "outputs": [
    {
     "data": {
      "text/plain": [
       "225"
      ]
     },
     "execution_count": 35,
     "metadata": {},
     "output_type": "execute_result"
    }
   ],
   "source": [
    "# Filter out rows with empty values in the 'userId' column\n",
    "# - `user_log_valid.filter(user_log_valid[\"userId\"] != \"\")`:\n",
    "#   Filters the 'user_log_valid' DataFrame to exclude rows where the 'userId' column is an empty string.\n",
    "\n",
    "user_log_valid = user_log_valid.filter(user_log_valid[\"userId\"] != \"\")\n",
    "\n",
    "# Display the count of rows in the filtered DataFrame after removing rows with empty 'userId'\n",
    "# - `user_log_valid.count()`: Prints the count of rows in the DataFrame after the filtering operation.\n",
    "\n",
    "user_log_valid.count()\n",
    "\n",
    "# Display the count of unique user IDs in the filtered DataFrame\n",
    "# - `user_log_valid.select(\"userId\").dropDuplicates().sort(\"userId\").count()`:\n",
    "#   Selects the 'userId' column, drops duplicate values, sorts the result by 'userId', and counts the number of unique user IDs.\n",
    "\n",
    "user_log_valid.select(\"userId\").dropDuplicates().sort(\"userId\").count()\n"
   ]
  },
  {
   "cell_type": "markdown",
   "metadata": {},
   "source": [
    "### Data Wrangling 4: Create User Dataframe for Churn Activity"
   ]
  },
  {
   "cell_type": "code",
   "execution_count": 36,
   "metadata": {},
   "outputs": [
    {
     "name": "stdout",
     "output_type": "stream",
     "text": [
      "root\n",
      " |-- artist: string (nullable = true)\n",
      " |-- auth: string (nullable = true)\n",
      " |-- firstName: string (nullable = true)\n",
      " |-- gender: string (nullable = true)\n",
      " |-- itemInSession: long (nullable = true)\n",
      " |-- lastName: string (nullable = true)\n",
      " |-- length: double (nullable = true)\n",
      " |-- level: string (nullable = true)\n",
      " |-- location: string (nullable = true)\n",
      " |-- method: string (nullable = true)\n",
      " |-- page: string (nullable = true)\n",
      " |-- registration: long (nullable = true)\n",
      " |-- sessionId: long (nullable = true)\n",
      " |-- song: string (nullable = true)\n",
      " |-- status: long (nullable = true)\n",
      " |-- ts: long (nullable = true)\n",
      " |-- userAgent: string (nullable = true)\n",
      " |-- userId: string (nullable = true)\n",
      " |-- hour: string (nullable = true)\n",
      " |-- registration_timestamp: string (nullable = true)\n",
      " |-- ts_timestamp: string (nullable = true)\n",
      " |-- user_downgrade: integer (nullable = true)\n",
      " |-- user_churn: integer (nullable = true)\n",
      "\n"
     ]
    }
   ],
   "source": [
    "# Add columns for downgrade and churn indicators\n",
    "\n",
    "# Create a column 'downgrade' to mark rows where users submitted a downgrade\n",
    "# - `when(user_log_valid.page == 'Submit Downgrade', 1).otherwise(0)`: If the page is 'Submit Downgrade', set the value to 1; otherwise, set it to 0.\n",
    "user_log_valid = user_log_valid.withColumn('downgrade', when(user_log_valid.page == 'Submit Downgrade', 1).otherwise(0))\n",
    "\n",
    "# Create a column 'churn' to mark rows where users confirmed cancellation\n",
    "# - `when(user_log_valid.page == 'Cancellation Confirmation', 1).otherwise(0)`: If the page is 'Cancellation Confirmation', set the value to 1; otherwise, set it to 0.\n",
    "user_log_valid = user_log_valid.withColumn('churn', when(user_log_valid.page == 'Cancellation Confirmation', 1).otherwise(0))\n",
    "\n",
    "# Create columns 'user_downgrade' and 'user_churn' using window functions to represent user-level downgrade and churn status\n",
    "# - `Fmax('downgrade').over(Window.partitionBy('UserId'))`: For each user, calculate the maximum value of 'downgrade'.\n",
    "# - `Fmax('churn').over(Window.partitionBy('UserId'))`: For each user, calculate the maximum value of 'churn'.\n",
    "user_log_valid = user_log_valid.withColumn('user_downgrade', Fmax('downgrade').over(Window.partitionBy('UserId')))\n",
    "user_log_valid = user_log_valid.withColumn('user_churn', Fmax('churn').over(Window.partitionBy('UserId')))\n",
    "\n",
    "# Drop the intermediate 'downgrade' and 'churn' columns\n",
    "user_log_valid = user_log_valid.drop(col(\"downgrade\"))\n",
    "user_log_valid = user_log_valid.drop(col(\"churn\"))\n",
    "\n",
    "# Display the schema of the modified DataFrame\n",
    "user_log_valid.printSchema()\n"
   ]
  },
  {
   "cell_type": "code",
   "execution_count": 37,
   "metadata": {},
   "outputs": [],
   "source": [
    "# Combine user-level churn and downgrade indicators into a single 'churn' column\n",
    "# Create a column 'churn' based on conditions involving 'user_churn' and 'user_downgrade' columns\n",
    "# - `when((user_log_valid.user_churn == 1) | (user_log_valid.user_downgrade == 1), 1).otherwise(0)`: \n",
    "#   If either 'user_churn' or 'user_downgrade' is 1, set 'churn' to 1; otherwise, set it to 0.\n",
    "user_log_valid = user_log_valid.withColumn('churn', when((user_log_valid.user_churn == 1) | (user_log_valid.user_downgrade == 1), 1).otherwise(0))\n",
    "\n",
    "# Drop the intermediate 'user_churn' column\n",
    "user_log_valid = user_log_valid.drop(col(\"user_churn\"))\n",
    "\n",
    "# Create a simplified DataFrame 'user_log_simplified' by dropping the 'user_downgrade' column\n",
    "user_log_simplified = user_log_valid.drop(col(\"user_downgrade\"))\n"
   ]
  },
  {
   "cell_type": "code",
   "execution_count": 38,
   "metadata": {},
   "outputs": [
    {
     "data": {
      "text/html": [
       "<div>\n",
       "<style scoped>\n",
       "    .dataframe tbody tr th:only-of-type {\n",
       "        vertical-align: middle;\n",
       "    }\n",
       "\n",
       "    .dataframe tbody tr th {\n",
       "        vertical-align: top;\n",
       "    }\n",
       "\n",
       "    .dataframe thead th {\n",
       "        text-align: right;\n",
       "    }\n",
       "</style>\n",
       "<table border=\"1\" class=\"dataframe\">\n",
       "  <thead>\n",
       "    <tr style=\"text-align: right;\">\n",
       "      <th></th>\n",
       "      <th>artist</th>\n",
       "      <th>auth</th>\n",
       "      <th>firstName</th>\n",
       "      <th>gender</th>\n",
       "      <th>itemInSession</th>\n",
       "      <th>lastName</th>\n",
       "      <th>length</th>\n",
       "      <th>level</th>\n",
       "      <th>location</th>\n",
       "      <th>method</th>\n",
       "      <th>...</th>\n",
       "      <th>sessionId</th>\n",
       "      <th>song</th>\n",
       "      <th>status</th>\n",
       "      <th>ts</th>\n",
       "      <th>userAgent</th>\n",
       "      <th>userId</th>\n",
       "      <th>hour</th>\n",
       "      <th>registration_timestamp</th>\n",
       "      <th>ts_timestamp</th>\n",
       "      <th>churn</th>\n",
       "    </tr>\n",
       "  </thead>\n",
       "  <tbody>\n",
       "    <tr>\n",
       "      <th>0</th>\n",
       "      <td>Sea Wolf</td>\n",
       "      <td>Logged In</td>\n",
       "      <td>Brycen</td>\n",
       "      <td>M</td>\n",
       "      <td>0</td>\n",
       "      <td>Bradley</td>\n",
       "      <td>265.53424</td>\n",
       "      <td>paid</td>\n",
       "      <td>Laurel, MS</td>\n",
       "      <td>PUT</td>\n",
       "      <td>...</td>\n",
       "      <td>9</td>\n",
       "      <td>Ses Monuments</td>\n",
       "      <td>200</td>\n",
       "      <td>1538965220000</td>\n",
       "      <td>\"Mozilla/5.0 (Macintosh; Intel Mac OS X 10_9_4...</td>\n",
       "      <td>10</td>\n",
       "      <td>5</td>\n",
       "      <td>2018-09-28 21:31:35</td>\n",
       "      <td>2018-10-08 05:20:20</td>\n",
       "      <td>0</td>\n",
       "    </tr>\n",
       "    <tr>\n",
       "      <th>1</th>\n",
       "      <td>Evanescence</td>\n",
       "      <td>Logged In</td>\n",
       "      <td>Colin</td>\n",
       "      <td>M</td>\n",
       "      <td>0</td>\n",
       "      <td>Larson</td>\n",
       "      <td>237.11302</td>\n",
       "      <td>paid</td>\n",
       "      <td>Dallas-Fort Worth-Arlington, TX</td>\n",
       "      <td>PUT</td>\n",
       "      <td>...</td>\n",
       "      <td>256</td>\n",
       "      <td>Bring Me To Life</td>\n",
       "      <td>200</td>\n",
       "      <td>1538492662000</td>\n",
       "      <td>Mozilla/5.0 (Windows NT 6.1; WOW64; rv:30.0) G...</td>\n",
       "      <td>100</td>\n",
       "      <td>18</td>\n",
       "      <td>2018-09-26 20:17:35</td>\n",
       "      <td>2018-10-02 18:04:22</td>\n",
       "      <td>1</td>\n",
       "    </tr>\n",
       "    <tr>\n",
       "      <th>2</th>\n",
       "      <td>None</td>\n",
       "      <td>Logged In</td>\n",
       "      <td>Delaney</td>\n",
       "      <td>F</td>\n",
       "      <td>0</td>\n",
       "      <td>Perez</td>\n",
       "      <td>NaN</td>\n",
       "      <td>free</td>\n",
       "      <td>Miami-Fort Lauderdale-West Palm Beach, FL</td>\n",
       "      <td>GET</td>\n",
       "      <td>...</td>\n",
       "      <td>1</td>\n",
       "      <td>None</td>\n",
       "      <td>200</td>\n",
       "      <td>1538376504000</td>\n",
       "      <td>\"Mozilla/5.0 (Macintosh; Intel Mac OS X 10_6_8...</td>\n",
       "      <td>100001</td>\n",
       "      <td>9</td>\n",
       "      <td>2018-08-19 00:24:26</td>\n",
       "      <td>2018-10-01 09:48:24</td>\n",
       "      <td>1</td>\n",
       "    </tr>\n",
       "    <tr>\n",
       "      <th>3</th>\n",
       "      <td>None</td>\n",
       "      <td>Logged In</td>\n",
       "      <td>Gracie</td>\n",
       "      <td>F</td>\n",
       "      <td>0</td>\n",
       "      <td>Chang</td>\n",
       "      <td>NaN</td>\n",
       "      <td>paid</td>\n",
       "      <td>Santa Maria-Santa Barbara, CA</td>\n",
       "      <td>GET</td>\n",
       "      <td>...</td>\n",
       "      <td>38</td>\n",
       "      <td>None</td>\n",
       "      <td>200</td>\n",
       "      <td>1539039445000</td>\n",
       "      <td>Mozilla/5.0 (Windows NT 6.1; WOW64; rv:32.0) G...</td>\n",
       "      <td>100002</td>\n",
       "      <td>1</td>\n",
       "      <td>2018-06-25 16:51:29</td>\n",
       "      <td>2018-10-09 01:57:25</td>\n",
       "      <td>0</td>\n",
       "    </tr>\n",
       "    <tr>\n",
       "      <th>4</th>\n",
       "      <td>Black Eyed Peas</td>\n",
       "      <td>Logged In</td>\n",
       "      <td>Nevaeh</td>\n",
       "      <td>F</td>\n",
       "      <td>0</td>\n",
       "      <td>Jones</td>\n",
       "      <td>193.88036</td>\n",
       "      <td>free</td>\n",
       "      <td>Miami-Fort Lauderdale-West Palm Beach, FL</td>\n",
       "      <td>PUT</td>\n",
       "      <td>...</td>\n",
       "      <td>3</td>\n",
       "      <td>Gone Going</td>\n",
       "      <td>200</td>\n",
       "      <td>1539100420000</td>\n",
       "      <td>Mozilla/5.0 (Windows NT 6.1; WOW64; rv:31.0) G...</td>\n",
       "      <td>100003</td>\n",
       "      <td>18</td>\n",
       "      <td>2018-09-19 01:22:24</td>\n",
       "      <td>2018-10-09 18:53:40</td>\n",
       "      <td>1</td>\n",
       "    </tr>\n",
       "  </tbody>\n",
       "</table>\n",
       "<p>5 rows × 22 columns</p>\n",
       "</div>"
      ],
      "text/plain": [
       "            artist       auth firstName gender  itemInSession lastName  \\\n",
       "0         Sea Wolf  Logged In    Brycen      M              0  Bradley   \n",
       "1      Evanescence  Logged In     Colin      M              0   Larson   \n",
       "2             None  Logged In   Delaney      F              0    Perez   \n",
       "3             None  Logged In    Gracie      F              0    Chang   \n",
       "4  Black Eyed Peas  Logged In    Nevaeh      F              0    Jones   \n",
       "\n",
       "      length level                                   location method  ...  \\\n",
       "0  265.53424  paid                                 Laurel, MS    PUT  ...   \n",
       "1  237.11302  paid            Dallas-Fort Worth-Arlington, TX    PUT  ...   \n",
       "2        NaN  free  Miami-Fort Lauderdale-West Palm Beach, FL    GET  ...   \n",
       "3        NaN  paid              Santa Maria-Santa Barbara, CA    GET  ...   \n",
       "4  193.88036  free  Miami-Fort Lauderdale-West Palm Beach, FL    PUT  ...   \n",
       "\n",
       "  sessionId              song  status             ts  \\\n",
       "0         9     Ses Monuments     200  1538965220000   \n",
       "1       256  Bring Me To Life     200  1538492662000   \n",
       "2         1              None     200  1538376504000   \n",
       "3        38              None     200  1539039445000   \n",
       "4         3        Gone Going     200  1539100420000   \n",
       "\n",
       "                                           userAgent  userId hour  \\\n",
       "0  \"Mozilla/5.0 (Macintosh; Intel Mac OS X 10_9_4...      10    5   \n",
       "1  Mozilla/5.0 (Windows NT 6.1; WOW64; rv:30.0) G...     100   18   \n",
       "2  \"Mozilla/5.0 (Macintosh; Intel Mac OS X 10_6_8...  100001    9   \n",
       "3  Mozilla/5.0 (Windows NT 6.1; WOW64; rv:32.0) G...  100002    1   \n",
       "4  Mozilla/5.0 (Windows NT 6.1; WOW64; rv:31.0) G...  100003   18   \n",
       "\n",
       "  registration_timestamp         ts_timestamp churn  \n",
       "0    2018-09-28 21:31:35  2018-10-08 05:20:20     0  \n",
       "1    2018-09-26 20:17:35  2018-10-02 18:04:22     1  \n",
       "2    2018-08-19 00:24:26  2018-10-01 09:48:24     1  \n",
       "3    2018-06-25 16:51:29  2018-10-09 01:57:25     0  \n",
       "4    2018-09-19 01:22:24  2018-10-09 18:53:40     1  \n",
       "\n",
       "[5 rows x 22 columns]"
      ]
     },
     "execution_count": 38,
     "metadata": {},
     "output_type": "execute_result"
    }
   ],
   "source": [
    "# Create a churn matrice by selecting unique user records based on 'userId'\n",
    "# Select unique user records based on the 'userId' column\n",
    "# - `user_log_simplified.dropDuplicates([\"userId\"])`: Drops duplicate records based on the 'userId' column.\n",
    "churn_matrice = user_log_simplified.dropDuplicates([\"userId\"])\n",
    "\n",
    "# Convert the churn matrice to a Pandas DataFrame and display the first 5 rows\n",
    "# - `.toPandas().head(5)`: Converts the Spark DataFrame to a Pandas DataFrame and displays the first 5 rows.\n",
    "churn_matrice.toPandas().head(5)"
   ]
  },
  {
   "cell_type": "code",
   "execution_count": 39,
   "metadata": {},
   "outputs": [
    {
     "name": "stdout",
     "output_type": "stream",
     "text": [
      "+--------------------+---------+---------+------+-------------+--------+---------+-----+----------+------+---------+-------------+---------+--------------------+------+-------------+--------------------+------+----+----------------------+-------------------+--------------+-----+\n",
      "|              artist|     auth|firstName|gender|itemInSession|lastName|   length|level|  location|method|     page| registration|sessionId|                song|status|           ts|           userAgent|userId|hour|registration_timestamp|       ts_timestamp|user_downgrade|churn|\n",
      "+--------------------+---------+---------+------+-------------+--------+---------+-----+----------+------+---------+-------------+---------+--------------------+------+-------------+--------------------+------+----+----------------------+-------------------+--------------+-----+\n",
      "|            Sea Wolf|Logged In|   Brycen|     M|            0| Bradley|265.53424| paid|Laurel, MS|   PUT| NextSong|1538159495000|        9|       Ses Monuments|   200|1538965220000|\"Mozilla/5.0 (Mac...|    10|   5|   2018-09-28 21:31:35|2018-10-08 05:20:20|             0|    0|\n",
      "|George Baker Sele...|Logged In|   Brycen|     M|            1| Bradley| 200.4371| paid|Laurel, MS|   PUT| NextSong|1538159495000|        9|         Morning Sky|   200|1538965485000|\"Mozilla/5.0 (Mac...|    10|   5|   2018-09-28 21:31:35|2018-10-08 05:24:45|             0|    0|\n",
      "|          Klaus Lage|Logged In|   Brycen|     M|            2| Bradley|208.03873| paid|Laurel, MS|   PUT| NextSong|1538159495000|        9|Du Hast'n Freund ...|   200|1538965685000|\"Mozilla/5.0 (Mac...|    10|   5|   2018-09-28 21:31:35|2018-10-08 05:28:05|             0|    0|\n",
      "|         Dave Grusin|Logged In|   Brycen|     M|            3| Bradley|526.44526| paid|Laurel, MS|   PUT| NextSong|1538159495000|        9|             Playera|   200|1538965893000|\"Mozilla/5.0 (Mac...|    10|   5|   2018-09-28 21:31:35|2018-10-08 05:31:33|             0|    0|\n",
      "|    Blue Oyster Cult|Logged In|   Brycen|     M|            4| Bradley|272.06485| paid|Laurel, MS|   PUT| NextSong|1538159495000|        9|     Burnin' For You|   200|1538966419000|\"Mozilla/5.0 (Mac...|    10|   5|   2018-09-28 21:31:35|2018-10-08 05:40:19|             0|    0|\n",
      "|           Lifehouse|Logged In|   Brycen|     M|            5| Bradley|207.01995| paid|Laurel, MS|   PUT| NextSong|1538159495000|        9|      Sky Is Falling|   200|1538966691000|\"Mozilla/5.0 (Mac...|    10|   5|   2018-09-28 21:31:35|2018-10-08 05:44:51|             0|    0|\n",
      "|Camper Van Beethoven|Logged In|   Brycen|     M|            6| Bradley|106.31791| paid|Laurel, MS|   PUT| NextSong|1538159495000|        9|      Skinhead Stomp|   200|1538966898000|\"Mozilla/5.0 (Mac...|    10|   5|   2018-09-28 21:31:35|2018-10-08 05:48:18|             0|    0|\n",
      "|                NULL|Logged In|   Brycen|     M|            7| Bradley|     NULL| paid|Laurel, MS|   PUT|Thumbs Up|1538159495000|        9|                NULL|   307|1538966899000|\"Mozilla/5.0 (Mac...|    10|   5|   2018-09-28 21:31:35|2018-10-08 05:48:19|             0|    0|\n",
      "|       Dwight Yoakam|Logged In|   Brycen|     M|            8| Bradley| 239.3073| paid|Laurel, MS|   PUT| NextSong|1538159495000|        9|      You're The One|   200|1538967004000|\"Mozilla/5.0 (Mac...|    10|   5|   2018-09-28 21:31:35|2018-10-08 05:50:04|             0|    0|\n",
      "|   Matthew Good Band|Logged In|   Brycen|     M|            9| Bradley|264.85506| paid|Laurel, MS|   PUT| NextSong|1538159495000|        9|        Strange Days|   200|1538967243000|\"Mozilla/5.0 (Mac...|    10|   5|   2018-09-28 21:31:35|2018-10-08 05:54:03|             0|    0|\n",
      "+--------------------+---------+---------+------+-------------+--------+---------+-----+----------+------+---------+-------------+---------+--------------------+------+-------------+--------------------+------+----+----------------------+-------------------+--------------+-----+\n",
      "only showing top 10 rows\n",
      "\n"
     ]
    }
   ],
   "source": [
    "user_log_valid.show(10)"
   ]
  },
  {
   "cell_type": "markdown",
   "metadata": {},
   "source": [
    "# <span style=\"color:green\">Feature Engineering </span> </h1>"
   ]
  },
  {
   "cell_type": "markdown",
   "metadata": {},
   "source": [
    "**Number of Sessions by User:** This feature provides insights into user engagement by counting the number of sessions each user has created. Users with higher session counts may be more actively using the application, indicating a positive engagement level.\n",
    "\n",
    "**Average Session Time spent in App by each session:** Calculating the average session time for each user helps capture the typical duration of user interactions. Longer session times may suggest a higher level of interest and satisfaction with the music application.\n",
    "\n",
    "**Maximum Spent Time in the App:** This feature identifies the maximum time spent by a user in a single session. Users who spend more time during a session may be considered highly engaged and less likely to churn.\n",
    "\n",
    "**Number of times users trigger the next song event:** Tracking the frequency of users triggering the \"next song\" event provides insights into user satisfaction and interest in the music content. Higher counts may indicate active and engaged users.\n",
    "\n",
    "**Number of times users click the thumbs-up button:** Users expressing positive feedback by clicking the thumbs-up button may be more satisfied with the service. This feature captures user sentiment and engagement with the content.\n",
    "\n",
    "**Number of times users click the thumbs-down button:** Monitoring the count of users clicking the thumbs-down button helps identify dissatisfaction. Users with a higher thumbs-down count may be exhibiting behavior indicative of potential churn.\n",
    "\n",
    "**Ratio of Thumbs-up to Thumbs-down:** Creating a ratio of thumbs-up to thumbs-down provides a normalized measure of user satisfaction. A higher ratio suggests a positive sentiment, while a lower ratio may indicate dissatisfaction.\n",
    "\n",
    "**Number of times users visit the downgrade page:** Users visiting the downgrade page may be considering or initiating a downgrade in their subscription. Monitoring this activity is crucial for predicting potential churn.\n",
    "\n",
    "**error_page_by_user (Number of times users visit the error page):** Frequent visits to the error page may indicate a suboptimal user experience, potentially leading to dissatisfaction. This feature helps capture issues that might contribute to churn.\n",
    "\n",
    "**Average songs played in each session:** Calculating the average number of songs played in each session provides insights into user engagement with the music content. Higher averages may suggest a more enjoyable user experience.\n",
    "\n",
    "**Number of times users visit the add friend page:** Users actively adding friends within the application may indicate a social aspect to their engagement. Social interactions can contribute positively to user retention.\n",
    "\n",
    "**Number of times users visit the help page:** Frequent visits to the help page may signal user confusion or issues. Monitoring this activity helps identify users who might need additional support to prevent churn.\n",
    "\n",
    "**Number of times users visit the add to playlist page:** Users creating playlists demonstrate a higher level of engagement with the music application. This feature captures the user's investment in personalizing their experience.\n",
    "\n",
    "**Number of times users have seen advertisements:** Users exposed to advertisements may have a different experience compared to ad-free users. Tracking ad interactions helps understand the impact of advertising on user behavior and potential churn."
   ]
  },
  {
   "cell_type": "markdown",
   "metadata": {},
   "source": [
    "### Custom Function for Page Statistics"
   ]
  },
  {
   "cell_type": "code",
   "execution_count": 40,
   "metadata": {},
   "outputs": [],
   "source": [
    "def calculate_correlation(comparison_matrice, main_matrice):\n",
    "    \"\"\"\n",
    "    Calculate the correlation between 'churn' and 'count' columns in the joined DataFrame.\n",
    "\n",
    "    Parameters:\n",
    "    - comparison_matrice (pyspark.sql.DataFrame): DataFrame containing 'userId' and 'count' columns.\n",
    "    - main_matrice (pyspark.sql.DataFrame): DataFrame containing 'userId', 'churn', and 'count' columns.\n",
    "\n",
    "    Returns:\n",
    "    - str: A formatted string indicating the calculated correlation value.\n",
    "    \"\"\"\n",
    "    # Join the main matrice and the comparison matrice on the 'userId' column\n",
    "    main_df = main_matrice.join(comparison_matrice, on='userId')\n",
    "    \n",
    "    # Calculate the correlation between the 'churn' and 'count' columns\n",
    "    correlation = main_df.stat.corr(\"churn\", \"count\")\n",
    "    \n",
    "    # Return the correlation result as a formatted string\n",
    "    return \"Correlation: {}\".format(correlation)\n"
   ]
  },
  {
   "cell_type": "markdown",
   "metadata": {},
   "source": [
    "### Effect Analysis 1: Number of Sessions vs. Churn"
   ]
  },
  {
   "cell_type": "code",
   "execution_count": 41,
   "metadata": {},
   "outputs": [
    {
     "data": {
      "text/plain": [
       "'Correlation: 0.18182333292073485'"
      ]
     },
     "execution_count": 41,
     "metadata": {},
     "output_type": "execute_result"
    }
   ],
   "source": [
    "# Count the number of sessions for each user and sort the result\n",
    "# - `user_log_simplified.groupby('userId').count().sort('count')`:\n",
    "#   Groups the 'user_log_simplified' DataFrame by 'userId', counts the number of sessions for each user, and sorts the result by the session count.\n",
    "\n",
    "numof_ses_byuser = user_log_simplified.groupby('userId').count().sort('count')\n",
    "\n",
    "# Calculate the correlation between the number of sessions and churn status for each user\n",
    "# - `calculate_correlation(numof_ses_byuser, churn_matrice)`:\n",
    "#   Calls the 'calculate_correlation' function to calculate the correlation between the 'count' column (number of sessions) in 'numof_ses_byuser'\n",
    "#   and the 'churn' column in 'churn_matrice'.\n",
    "calculate_correlation(numof_ses_byuser, churn_matrice)\n"
   ]
  },
  {
   "cell_type": "markdown",
   "metadata": {},
   "source": [
    "###  Effect Analysis 2: Average Session Time vs. Churn"
   ]
  },
  {
   "cell_type": "code",
   "execution_count": 42,
   "metadata": {},
   "outputs": [
    {
     "data": {
      "text/plain": [
       "'Correlation: 0.00979385733006943'"
      ]
     },
     "execution_count": 42,
     "metadata": {},
     "output_type": "execute_result"
    }
   ],
   "source": [
    "# Define a window specification for partitioning by \"userId\" and \"sessionId\"\n",
    "# - `Window.partitionBy(\"userId\", \"sessionId\")`: Creates a window specification to partition the data by \"userId\" and \"sessionId\".\n",
    "\n",
    "windowSpec = Window.partitionBy(\"userId\", \"sessionId\")\n",
    "\n",
    "# Create new columns to calculate session duration\n",
    "# - `user_log_valid.withColumn(\"sessionmax\", F.max(\"ts\").over(windowSpec))`: Adds a column \"sessionmax\" with the maximum timestamp in each session.\n",
    "# - `user_log_valid.withColumn(\"sessionmin\", F.min(\"ts\").over(windowSpec))`: Adds a column \"sessionmin\" with the minimum timestamp in each session.\n",
    "# - `user_log_valid.withColumn(\"session_time\", col(\"sessionmax\") - col(\"sessionmin\"))`: Adds a column \"session_time\" representing the duration of each session.\n",
    "\n",
    "session_valid = user_log_valid.withColumn(\"sessionmax\", F.max(\"ts\").over(windowSpec))\n",
    "session_valid = session_valid.withColumn(\"sessionmin\", F.min(\"ts\").over(windowSpec))\n",
    "\n",
    "\n",
    "session_valid = session_valid.withColumn(\"session_time\", col(\"sessionmax\") - col(\"sessionmin\"))\n",
    "\n",
    "# Create a matrice with unique user records and session times summed up\n",
    "# - `session_valid.dropDuplicates([\"userId\"])`: Drops duplicate records based on \"userId\".\n",
    "# - `session_valid_matrice['userId','session_time'].groupBy('userId').agg(sum(\"session_time\").alias(\"count\"))`:\n",
    "#   Groups the DataFrame by \"userId\", sums up the session times, and renames the result as \"count\".\n",
    "\n",
    "session_valid_matrice = session_valid.dropDuplicates([\"userId\"])\n",
    "session_valid_matrice = session_valid_matrice['userId','session_time'].groupBy('userId').agg(sum(\"session_time\").alias(\"count\"))\n",
    "\n",
    "# Calculate the correlation between session times and churn status for each user\n",
    "# - `calculate_correlation(session_valid_matrice, churn_matrice)`:\n",
    "#   Calls the 'calculate_correlation' function to calculate the correlation between the \"count\" column (session times) in 'session_valid_matrice'\n",
    "#   and the 'churn' column in 'churn_matrice'.\n",
    "calculate_correlation(session_valid_matrice, churn_matrice)\n"
   ]
  },
  {
   "cell_type": "markdown",
   "metadata": {},
   "source": [
    "###  Effect Analysis 3: Total Spent Time on Platform vs. Churn"
   ]
  },
  {
   "cell_type": "code",
   "execution_count": 43,
   "metadata": {
    "scrolled": false
   },
   "outputs": [
    {
     "data": {
      "text/plain": [
       "'Correlation: 0.01433065684400083'"
      ]
     },
     "execution_count": 43,
     "metadata": {},
     "output_type": "execute_result"
    }
   ],
   "source": [
    "# Add a new column 'current_timestamp' with the current timestamp\n",
    "time_spent = user_log_valid.withColumn(\"current_timestamp\", F.current_timestamp())\n",
    "\n",
    "# Calculate the time difference in days between registration and today\n",
    "time_spent = time_spent.withColumn(\n",
    "    \"time_spent_since_registration\",\n",
    "    F.datediff(\"current_timestamp\", F.from_unixtime(col(\"registration\") / 1000))  # Assuming the timestamp is in milliseconds\n",
    ")\n",
    "\n",
    "# Find the maximum time spent since registration for each user\n",
    "max_time_spent_per_user = time_spent.groupBy(\"userId\").agg(F.max(\"time_spent_since_registration\").alias(\"count\"))\n",
    "\n",
    "# Show the DataFrame with userId and max time spent\n",
    "max_time_spent_per_user = max_time_spent_per_user.select(\"userId\", \"count\")\n",
    "\n",
    "# Calculate the correlation between max time spent and churn status for each user\n",
    "calculate_correlation(max_time_spent_per_user, churn_matrice)\n"
   ]
  },
  {
   "cell_type": "markdown",
   "metadata": {},
   "source": [
    "###  Effect Analysis 4: Number of Songs Played vs. Churn"
   ]
  },
  {
   "cell_type": "code",
   "execution_count": 44,
   "metadata": {},
   "outputs": [
    {
     "data": {
      "text/plain": [
       "'Correlation: 0.17444291948458435'"
      ]
     },
     "execution_count": 44,
     "metadata": {},
     "output_type": "execute_result"
    }
   ],
   "source": [
    "# Group by userId and count the occurrences of \"NextSong\" for each user\n",
    "next_song_by_user = user_log_valid.groupBy(\"userId\").agg(count(when(col(\"page\") == \"NextSong\", True)).alias(\"count\"))\n",
    "\n",
    "# Calculate the correlation between the count of \"NextSong\" and churn status for each user\n",
    "calculate_correlation(next_song_by_user, churn_matrice)\n"
   ]
  },
  {
   "cell_type": "markdown",
   "metadata": {},
   "source": [
    "###  Effect Analysis 5: Number of Thumbs Up vs. Churn"
   ]
  },
  {
   "cell_type": "code",
   "execution_count": 45,
   "metadata": {},
   "outputs": [
    {
     "data": {
      "text/plain": [
       "'Correlation: 0.1607948099968385'"
      ]
     },
     "execution_count": 45,
     "metadata": {},
     "output_type": "execute_result"
    }
   ],
   "source": [
    "# Filter rows where the page is \"Thumbs Up\" and count occurrences for each user\n",
    "thumbs_up_by_user = user_log_valid.groupBy(\"userId\").agg(count(when(col(\"page\") == \"Thumbs Up\", True)).alias(\"count\"))\n",
    "\n",
    "# Calculate the correlation between the count of \"Thumbs Up\" and churn status for each user\n",
    "calculate_correlation(thumbs_up_by_user, churn_matrice)"
   ]
  },
  {
   "cell_type": "code",
   "execution_count": 46,
   "metadata": {},
   "outputs": [
    {
     "name": "stdout",
     "output_type": "stream",
     "text": [
      "+------+-----+\n",
      "|userId|count|\n",
      "+------+-----+\n",
      "|    10|   37|\n",
      "|   100|  148|\n",
      "|100001|    8|\n",
      "|100002|    5|\n",
      "|100003|    3|\n",
      "+------+-----+\n",
      "only showing top 5 rows\n",
      "\n"
     ]
    }
   ],
   "source": [
    "thumbs_up_by_user.sort('userId').show(5)"
   ]
  },
  {
   "cell_type": "markdown",
   "metadata": {},
   "source": [
    "###  Effect Analysis 6: Number of Thumbs Down vs. Churn"
   ]
  },
  {
   "cell_type": "code",
   "execution_count": 47,
   "metadata": {},
   "outputs": [
    {
     "data": {
      "text/plain": [
       "'Correlation: 0.2493953646079613'"
      ]
     },
     "execution_count": 47,
     "metadata": {},
     "output_type": "execute_result"
    }
   ],
   "source": [
    "# Filter rows where the page is \"Thumbs Down\" and count occurrences for each user\n",
    "thumbs_down_by_user = user_log_valid.groupBy(\"userId\").agg(count(when(col(\"page\") == \"Thumbs Down\", True)).alias(\"count\"))\n",
    "\n",
    "# Calculate the correlation between the count of \"Thumbs Down\" and churn status for each user\n",
    "calculate_correlation(thumbs_down_by_user, churn_matrice)"
   ]
  },
  {
   "cell_type": "code",
   "execution_count": 48,
   "metadata": {},
   "outputs": [
    {
     "name": "stdout",
     "output_type": "stream",
     "text": [
      "+------+-----+\n",
      "|userId|count|\n",
      "+------+-----+\n",
      "|    10|    4|\n",
      "|   100|   27|\n",
      "|100001|    2|\n",
      "|100002|    0|\n",
      "|100003|    0|\n",
      "+------+-----+\n",
      "only showing top 5 rows\n",
      "\n"
     ]
    }
   ],
   "source": [
    "thumbs_down_by_user.sort('userId').show(5)"
   ]
  },
  {
   "cell_type": "markdown",
   "metadata": {},
   "source": [
    "###  Effect Analysis 7: Ratio of Thumbs-up and Thumbs-down vs. Churn"
   ]
  },
  {
   "cell_type": "code",
   "execution_count": 49,
   "metadata": {},
   "outputs": [
    {
     "data": {
      "text/plain": [
       "'Correlation: -0.1180938763318403'"
      ]
     },
     "execution_count": 49,
     "metadata": {},
     "output_type": "execute_result"
    }
   ],
   "source": [
    "# Count the occurrences of \"Thumbs Up\" for each user\n",
    "thumbs_up_by_user2 = user_log_valid.groupBy(\"userId\").agg(count(when(col(\"page\") == \"Thumbs Up\", True)).alias(\"count2\"))\n",
    "\n",
    "# Count the occurrences of \"Thumbs Down\" for each user\n",
    "thumbs_down_by_user3 = user_log_valid.groupBy(\"userId\").agg(count(when(col(\"page\") == \"Thumbs Down\", True)).alias(\"count3\"))\n",
    "\n",
    "# Merge the \"Thumbs Up\" and \"Thumbs Down\" counts for each user\n",
    "merged_df = thumbs_down_by_user3.join(thumbs_up_by_user2, on='userId', how=\"outer\")\n",
    "\n",
    "# Calculate the ratio of \"Thumbs Up\" to \"Thumbs Down\" for each user\n",
    "# - `when((col(\"count3\") == 0) | (col(\"count2\") == 0), 0.0).otherwise(col(\"count2\") / col(\"count3\"))`:\n",
    "#   If either \"Thumbs Down\" or \"Thumbs Up\" count is zero, set the ratio to 0; otherwise, calculate the ratio.\n",
    "merged_df = merged_df.withColumn(\"count\", when((col(\"count3\") == 0) | (col(\"count2\") == 0), 0.0).otherwise(col(\"count2\") / col(\"count3\")))\n",
    "\n",
    "# Drop intermediate columns\n",
    "merged_df = merged_df.drop(col(\"count2\"))\n",
    "merged_df = merged_df.drop(col(\"count3\"))\n",
    "\n",
    "# Calculate the correlation between the ratio of \"Thumbs Up\" to \"Thumbs Down\" and churn status for each user\n",
    "calculate_correlation(merged_df, churn_matrice)"
   ]
  },
  {
   "cell_type": "code",
   "execution_count": 50,
   "metadata": {},
   "outputs": [
    {
     "name": "stdout",
     "output_type": "stream",
     "text": [
      "+------+-----------------+\n",
      "|userId|            count|\n",
      "+------+-----------------+\n",
      "|    10|             9.25|\n",
      "|   100|5.481481481481482|\n",
      "|100001|              4.0|\n",
      "|100002|              0.0|\n",
      "|100003|              0.0|\n",
      "+------+-----------------+\n",
      "only showing top 5 rows\n",
      "\n"
     ]
    }
   ],
   "source": [
    "merged_df.sort('userId').show(5)"
   ]
  },
  {
   "cell_type": "markdown",
   "metadata": {},
   "source": [
    "###  Effect Analysis 8: Number of Downgrade Visit vs. Churn"
   ]
  },
  {
   "cell_type": "code",
   "execution_count": 51,
   "metadata": {},
   "outputs": [
    {
     "data": {
      "text/plain": [
       "'Correlation: 0.17352165097877456'"
      ]
     },
     "execution_count": 51,
     "metadata": {},
     "output_type": "execute_result"
    }
   ],
   "source": [
    "# Group by userId and count the occurrences of \"Downgrade\" for each user\n",
    "downgrade_by_user = user_log_valid.groupBy(\"userId\").agg(count(when(col(\"page\") == \"Downgrade\", True)).alias(\"count\"))\n",
    "\n",
    "# Calculate the correlation between the count of \"Downgrade\" and churn status for each user\n",
    "calculate_correlation(downgrade_by_user, churn_matrice)\n"
   ]
  },
  {
   "cell_type": "markdown",
   "metadata": {},
   "source": [
    "###  Effect Analysis 9: Error on Website vs. Churn"
   ]
  },
  {
   "cell_type": "code",
   "execution_count": 52,
   "metadata": {},
   "outputs": [
    {
     "data": {
      "text/plain": [
       "'Correlation: 0.05512754591238405'"
      ]
     },
     "execution_count": 52,
     "metadata": {},
     "output_type": "execute_result"
    }
   ],
   "source": [
    "# Group by userId and count the occurrences of \"Error\" or status code 404 for each user\n",
    "error_page_by_user = user_log_valid.groupBy(\"userId\").agg(count(when((col(\"page\") == \"Error\") | (col(\"status\") == 404), True)).alias(\"count\"))\n",
    "\n",
    "# Calculate the correlation between the count of \"Error\" pages or status code 404 and churn status for each user\n",
    "calculate_correlation(error_page_by_user, churn_matrice)"
   ]
  },
  {
   "cell_type": "markdown",
   "metadata": {},
   "source": [
    "###  Effect Analysis 10: Average Songs Played in Session vs. Churn"
   ]
  },
  {
   "cell_type": "code",
   "execution_count": 53,
   "metadata": {},
   "outputs": [
    {
     "data": {
      "text/plain": [
       "'Correlation: 0.1744429194845842'"
      ]
     },
     "execution_count": 53,
     "metadata": {},
     "output_type": "execute_result"
    }
   ],
   "source": [
    "# Define a window specification based on userId and sessionId\n",
    "windowSpec = Window.partitionBy(\"userId\", \"sessionId\")\n",
    "# Create a new column \"songs_in_session\" counting the number of songs in each session\n",
    "song_valid = user_log_valid.withColumn(\"songs_in_session\", F.count(\"song\").over(windowSpec))\n",
    "# Calculate the average number of songs per session for each user\n",
    "song_valid = song_valid.groupBy(\"userId\", \"sessionId\").agg(F.avg(\"songs_in_session\").alias(\"count2\"))\n",
    "song_valid = song_valid.groupBy(\"userId\").agg(sum(\"count2\").alias(\"count\"))\n",
    "# Show the correlation\n",
    "calculate_correlation(song_valid,churn_matrice)"
   ]
  },
  {
   "cell_type": "markdown",
   "metadata": {},
   "source": [
    "###  Effect Analysis 11: Number of Friends added vs. Churn"
   ]
  },
  {
   "cell_type": "code",
   "execution_count": 54,
   "metadata": {},
   "outputs": [
    {
     "data": {
      "text/plain": [
       "'Correlation: 0.16119930871566454'"
      ]
     },
     "execution_count": 54,
     "metadata": {},
     "output_type": "execute_result"
    }
   ],
   "source": [
    "# Group by userId and count the occurrences of \"Add Friend\" for each user\n",
    "addfriend_by_user = user_log_valid.groupBy(\"userId\").agg(count(when(col(\"page\") == \"Add Friend\", True)).alias(\"count\"))\n",
    "\n",
    "# Calculate the correlation between the count of \"Add Friend\" and churn status for each user\n",
    "calculate_correlation(addfriend_by_user, churn_matrice)\n"
   ]
  },
  {
   "cell_type": "markdown",
   "metadata": {},
   "source": [
    "###  Effect Analysis 12: Help Page Visits vs. Churn"
   ]
  },
  {
   "cell_type": "code",
   "execution_count": 55,
   "metadata": {},
   "outputs": [
    {
     "data": {
      "text/plain": [
       "'Correlation: 0.1794865132136412'"
      ]
     },
     "execution_count": 55,
     "metadata": {},
     "output_type": "execute_result"
    }
   ],
   "source": [
    "# Group by userId and count the occurrences of \"Help\" for each user\n",
    "help_by_user = user_log_valid.groupBy(\"userId\").agg(count(when(col(\"page\") == \"Help\", True)).alias(\"count\"))\n",
    "\n",
    "# Calculate the correlation between the count of \"Help\" and churn status for each user\n",
    "calculate_correlation(help_by_user, churn_matrice)"
   ]
  },
  {
   "cell_type": "markdown",
   "metadata": {},
   "source": [
    "###  Effect Analysis 13: Number of Songs added to Playlist vs. Churn"
   ]
  },
  {
   "cell_type": "code",
   "execution_count": 56,
   "metadata": {},
   "outputs": [
    {
     "data": {
      "text/plain": [
       "'Correlation: 0.17380225999890125'"
      ]
     },
     "execution_count": 56,
     "metadata": {},
     "output_type": "execute_result"
    }
   ],
   "source": [
    "# Group by userId and count the occurrences of \"Add to Playlist\" for each user\n",
    "playlist_by_user = user_log_valid.groupBy(\"userId\").agg(count(when(col(\"page\") == \"Add to Playlist\", True)).alias(\"count\"))\n",
    "\n",
    "# Calculate the correlation between the count of \"Add to Playlist\" and churn status for each user\n",
    "calculate_correlation(playlist_by_user, churn_matrice)"
   ]
  },
  {
   "cell_type": "markdown",
   "metadata": {},
   "source": [
    "###  Effect Analysis 14: Number of Advertisement Seen per Session vs. Churn"
   ]
  },
  {
   "cell_type": "code",
   "execution_count": 57,
   "metadata": {},
   "outputs": [
    {
     "data": {
      "text/plain": [
       "'Correlation: 0.31441608602504023'"
      ]
     },
     "execution_count": 57,
     "metadata": {},
     "output_type": "execute_result"
    }
   ],
   "source": [
    "# Group by userId and count the occurrences of \"Roll Advert\" for each user\n",
    "advert_by_user = user_log_valid.groupBy(\"userId\").agg(count(when(col(\"page\") == \"Roll Advert\", True)).alias(\"count\"))\n",
    "\n",
    "# Calculate the correlation between the count of \"Roll Advert\" and churn status for each user\n",
    "calculate_correlation(advert_by_user, churn_matrice)"
   ]
  },
  {
   "cell_type": "code",
   "execution_count": 58,
   "metadata": {},
   "outputs": [
    {
     "name": "stdout",
     "output_type": "stream",
     "text": [
      "+------+-----+\n",
      "|userId|count|\n",
      "+------+-----+\n",
      "|100010|   52|\n",
      "|200002|    7|\n",
      "|   125|    1|\n",
      "|    51|    0|\n",
      "|   124|    4|\n",
      "|     7|   16|\n",
      "|    54|   47|\n",
      "|    15|    1|\n",
      "|   155|    8|\n",
      "|   132|    2|\n",
      "+------+-----+\n",
      "only showing top 10 rows\n",
      "\n"
     ]
    }
   ],
   "source": [
    "advert_by_user.show(10)"
   ]
  },
  {
   "cell_type": "markdown",
   "metadata": {},
   "source": [
    "### Merging Features"
   ]
  },
  {
   "cell_type": "code",
   "execution_count": 59,
   "metadata": {},
   "outputs": [],
   "source": [
    "# Extract relevant columns 'userId' and 'churn' from churn_matrice\n",
    "churn_data = churn_matrice['userId','churn']"
   ]
  },
  {
   "cell_type": "code",
   "execution_count": 60,
   "metadata": {},
   "outputs": [],
   "source": [
    "# Number of Sessions vs. Churn                                     numof_ses_byuser\n",
    "# Average Session Time vs. Churn                                   session_valid_matrice\n",
    "# Total Spent Time on Platform vs. Churn                           max_time_spent_per_user\n",
    "# Number of Songs Played vs. Churn                                 next_song_by_user\n",
    "# Number of Thumbs Up vs. Churn                                    thumbs_up_by_user\n",
    "# Number of Thumbs Down vs. Churn                                  thumbs_down_by_user\n",
    "# Ratio of Thumbs-up and Thumbs-down vs. Churn                     merged_df\n",
    "# Number of Downgrade Visit vs. Churn                              downgrade_by_user\n",
    "# Error on Website vs. Churn                                       error_page_by_user\n",
    "# Average Songs Played in Session vs. Churn                        song_valid\n",
    "# Number of Friends added vs. Churn                                addfriend_by_user\n",
    "# Help Page Visits vs. Churn                                       help_by_user\n",
    "# Number of Songs added to Playlist vs. Churn                      playlist_by_user\n",
    "# Number of Advertisement Seen per Session vs. Churn               advert_by_user\n",
    "\n",
    "\n",
    "# Define the array of dataframe names\n",
    "dataframe_names = [\n",
    "    \"churn_data\",\n",
    "    \"numof_ses_byuser\",\n",
    "    \"session_valid_matrice\",\n",
    "    \"max_time_spent_per_user\",\n",
    "    \"next_song_by_user\",\n",
    "    \"thumbs_up_by_user\",\n",
    "    \"thumbs_down_by_user\",\n",
    "    \"merged_df\",\n",
    "    \"downgrade_by_user\",\n",
    "    \"error_page_by_user\",\n",
    "    \"song_valid\",\n",
    "    \"addfriend_by_user\",\n",
    "    \"help_by_user\",\n",
    "    \"playlist_by_user\",\n",
    "    \"advert_by_user\"\n",
    "]\n",
    "\n",
    "# Function to join dataframes based on \"userId\"\n",
    "def join_dataframes(df_names):\n",
    "    # Initial dataframe\n",
    "    result_df = globals()[df_names[0]]\n",
    "\n",
    "    # Join the rest of the dataframes\n",
    "    for df_name in df_names[1:]:\n",
    "        result_df = result_df.join(globals()[df_name].withColumnRenamed(\"count\", df_name), on=\"userId\", how=\"outer\")\n",
    "\n",
    "    return result_df\n",
    "\n",
    "# Call the function with the dataframe names array\n",
    "result_df = join_dataframes(dataframe_names)"
   ]
  },
  {
   "cell_type": "code",
   "execution_count": 61,
   "metadata": {},
   "outputs": [
    {
     "data": {
      "text/html": [
       "<div>\n",
       "<style scoped>\n",
       "    .dataframe tbody tr th:only-of-type {\n",
       "        vertical-align: middle;\n",
       "    }\n",
       "\n",
       "    .dataframe tbody tr th {\n",
       "        vertical-align: top;\n",
       "    }\n",
       "\n",
       "    .dataframe thead th {\n",
       "        text-align: right;\n",
       "    }\n",
       "</style>\n",
       "<table border=\"1\" class=\"dataframe\">\n",
       "  <thead>\n",
       "    <tr style=\"text-align: right;\">\n",
       "      <th></th>\n",
       "      <th>userId</th>\n",
       "      <th>churn</th>\n",
       "      <th>numof_ses_byuser</th>\n",
       "      <th>session_valid_matrice</th>\n",
       "      <th>max_time_spent_per_user</th>\n",
       "      <th>next_song_by_user</th>\n",
       "      <th>thumbs_up_by_user</th>\n",
       "      <th>thumbs_down_by_user</th>\n",
       "      <th>merged_df</th>\n",
       "      <th>downgrade_by_user</th>\n",
       "      <th>error_page_by_user</th>\n",
       "      <th>song_valid</th>\n",
       "      <th>addfriend_by_user</th>\n",
       "      <th>help_by_user</th>\n",
       "      <th>playlist_by_user</th>\n",
       "      <th>advert_by_user</th>\n",
       "    </tr>\n",
       "  </thead>\n",
       "  <tbody>\n",
       "    <tr>\n",
       "      <th>0</th>\n",
       "      <td>0</td>\n",
       "      <td>0</td>\n",
       "      <td>0</td>\n",
       "      <td>0</td>\n",
       "      <td>0</td>\n",
       "      <td>0</td>\n",
       "      <td>0</td>\n",
       "      <td>0</td>\n",
       "      <td>0</td>\n",
       "      <td>0</td>\n",
       "      <td>0</td>\n",
       "      <td>0</td>\n",
       "      <td>0</td>\n",
       "      <td>0</td>\n",
       "      <td>0</td>\n",
       "      <td>0</td>\n",
       "    </tr>\n",
       "  </tbody>\n",
       "</table>\n",
       "</div>"
      ],
      "text/plain": [
       "   userId  churn  numof_ses_byuser  session_valid_matrice  \\\n",
       "0       0      0                 0                      0   \n",
       "\n",
       "   max_time_spent_per_user  next_song_by_user  thumbs_up_by_user  \\\n",
       "0                        0                  0                  0   \n",
       "\n",
       "   thumbs_down_by_user  merged_df  downgrade_by_user  error_page_by_user  \\\n",
       "0                    0          0                  0                   0   \n",
       "\n",
       "   song_valid  addfriend_by_user  help_by_user  playlist_by_user  \\\n",
       "0           0                  0             0                 0   \n",
       "\n",
       "   advert_by_user  \n",
       "0               0  "
      ]
     },
     "execution_count": 61,
     "metadata": {},
     "output_type": "execute_result"
    }
   ],
   "source": [
    "# Count the number of null values for each column in the 'result_df' DataFrame\n",
    "# - `sum(col(c).isNull().cast(\"int\")).alias(c)`: Counts the null values in each column and names the result with the column name.\n",
    "null_counts = result_df.select([sum(col(c).isNull().cast(\"int\")).alias(c) for c in result_df.columns])\n",
    "\n",
    "# Convert the result to a Pandas DataFrame for better display\n",
    "null_counts_pandas = null_counts.toPandas()\n",
    "\n",
    "# Display the Pandas DataFrame showing the count of null values for each column\n",
    "null_counts_pandas"
   ]
  },
  {
   "cell_type": "markdown",
   "metadata": {},
   "source": [
    "So, we confirmed that there is no missing value in the merged dataframe. We are ready for ML Pipeline build-up."
   ]
  },
  {
   "cell_type": "markdown",
   "metadata": {},
   "source": [
    "# General View of Final Dataframe"
   ]
  },
  {
   "cell_type": "code",
   "execution_count": 62,
   "metadata": {},
   "outputs": [
    {
     "data": {
      "text/html": [
       "<div>\n",
       "<style scoped>\n",
       "    .dataframe tbody tr th:only-of-type {\n",
       "        vertical-align: middle;\n",
       "    }\n",
       "\n",
       "    .dataframe tbody tr th {\n",
       "        vertical-align: top;\n",
       "    }\n",
       "\n",
       "    .dataframe thead th {\n",
       "        text-align: right;\n",
       "    }\n",
       "</style>\n",
       "<table border=\"1\" class=\"dataframe\">\n",
       "  <thead>\n",
       "    <tr style=\"text-align: right;\">\n",
       "      <th></th>\n",
       "      <th>userId</th>\n",
       "      <th>churn</th>\n",
       "      <th>numof_ses_byuser</th>\n",
       "      <th>session_valid_matrice</th>\n",
       "      <th>max_time_spent_per_user</th>\n",
       "      <th>next_song_by_user</th>\n",
       "      <th>thumbs_up_by_user</th>\n",
       "      <th>thumbs_down_by_user</th>\n",
       "      <th>merged_df</th>\n",
       "      <th>downgrade_by_user</th>\n",
       "      <th>error_page_by_user</th>\n",
       "      <th>song_valid</th>\n",
       "      <th>addfriend_by_user</th>\n",
       "      <th>help_by_user</th>\n",
       "      <th>playlist_by_user</th>\n",
       "      <th>advert_by_user</th>\n",
       "    </tr>\n",
       "  </thead>\n",
       "  <tbody>\n",
       "    <tr>\n",
       "      <th>0</th>\n",
       "      <td>10</td>\n",
       "      <td>0</td>\n",
       "      <td>795</td>\n",
       "      <td>14152000</td>\n",
       "      <td>1891</td>\n",
       "      <td>673</td>\n",
       "      <td>37</td>\n",
       "      <td>4</td>\n",
       "      <td>9.250000</td>\n",
       "      <td>7</td>\n",
       "      <td>0</td>\n",
       "      <td>673.0</td>\n",
       "      <td>12</td>\n",
       "      <td>1</td>\n",
       "      <td>9</td>\n",
       "      <td>1</td>\n",
       "    </tr>\n",
       "    <tr>\n",
       "      <th>1</th>\n",
       "      <td>100</td>\n",
       "      <td>1</td>\n",
       "      <td>3214</td>\n",
       "      <td>36368000</td>\n",
       "      <td>1893</td>\n",
       "      <td>2682</td>\n",
       "      <td>148</td>\n",
       "      <td>27</td>\n",
       "      <td>5.481481</td>\n",
       "      <td>30</td>\n",
       "      <td>3</td>\n",
       "      <td>2682.0</td>\n",
       "      <td>49</td>\n",
       "      <td>18</td>\n",
       "      <td>61</td>\n",
       "      <td>25</td>\n",
       "    </tr>\n",
       "    <tr>\n",
       "      <th>2</th>\n",
       "      <td>100001</td>\n",
       "      <td>1</td>\n",
       "      <td>187</td>\n",
       "      <td>9579000</td>\n",
       "      <td>1931</td>\n",
       "      <td>133</td>\n",
       "      <td>8</td>\n",
       "      <td>2</td>\n",
       "      <td>4.000000</td>\n",
       "      <td>0</td>\n",
       "      <td>1</td>\n",
       "      <td>133.0</td>\n",
       "      <td>2</td>\n",
       "      <td>1</td>\n",
       "      <td>3</td>\n",
       "      <td>14</td>\n",
       "    </tr>\n",
       "    <tr>\n",
       "      <th>3</th>\n",
       "      <td>100002</td>\n",
       "      <td>0</td>\n",
       "      <td>218</td>\n",
       "      <td>462000</td>\n",
       "      <td>1986</td>\n",
       "      <td>195</td>\n",
       "      <td>5</td>\n",
       "      <td>0</td>\n",
       "      <td>0.000000</td>\n",
       "      <td>2</td>\n",
       "      <td>0</td>\n",
       "      <td>195.0</td>\n",
       "      <td>1</td>\n",
       "      <td>0</td>\n",
       "      <td>5</td>\n",
       "      <td>3</td>\n",
       "    </tr>\n",
       "    <tr>\n",
       "      <th>4</th>\n",
       "      <td>100003</td>\n",
       "      <td>1</td>\n",
       "      <td>78</td>\n",
       "      <td>193000</td>\n",
       "      <td>1900</td>\n",
       "      <td>51</td>\n",
       "      <td>3</td>\n",
       "      <td>0</td>\n",
       "      <td>0.000000</td>\n",
       "      <td>0</td>\n",
       "      <td>0</td>\n",
       "      <td>51.0</td>\n",
       "      <td>0</td>\n",
       "      <td>1</td>\n",
       "      <td>2</td>\n",
       "      <td>9</td>\n",
       "    </tr>\n",
       "  </tbody>\n",
       "</table>\n",
       "</div>"
      ],
      "text/plain": [
       "   userId  churn  numof_ses_byuser  session_valid_matrice  \\\n",
       "0      10      0               795               14152000   \n",
       "1     100      1              3214               36368000   \n",
       "2  100001      1               187                9579000   \n",
       "3  100002      0               218                 462000   \n",
       "4  100003      1                78                 193000   \n",
       "\n",
       "   max_time_spent_per_user  next_song_by_user  thumbs_up_by_user  \\\n",
       "0                     1891                673                 37   \n",
       "1                     1893               2682                148   \n",
       "2                     1931                133                  8   \n",
       "3                     1986                195                  5   \n",
       "4                     1900                 51                  3   \n",
       "\n",
       "   thumbs_down_by_user  merged_df  downgrade_by_user  error_page_by_user  \\\n",
       "0                    4   9.250000                  7                   0   \n",
       "1                   27   5.481481                 30                   3   \n",
       "2                    2   4.000000                  0                   1   \n",
       "3                    0   0.000000                  2                   0   \n",
       "4                    0   0.000000                  0                   0   \n",
       "\n",
       "   song_valid  addfriend_by_user  help_by_user  playlist_by_user  \\\n",
       "0       673.0                 12             1                 9   \n",
       "1      2682.0                 49            18                61   \n",
       "2       133.0                  2             1                 3   \n",
       "3       195.0                  1             0                 5   \n",
       "4        51.0                  0             1                 2   \n",
       "\n",
       "   advert_by_user  \n",
       "0               1  \n",
       "1              25  \n",
       "2              14  \n",
       "3               3  \n",
       "4               9  "
      ]
     },
     "execution_count": 62,
     "metadata": {},
     "output_type": "execute_result"
    }
   ],
   "source": [
    "# Convert the 'result_df' DataFrame to a Pandas DataFrame\n",
    "result_df_pandas = result_df.toPandas()\n",
    "\n",
    "# Display the first few rows of the Pandas DataFrame\n",
    "result_df_pandas.head()"
   ]
  },
  {
   "cell_type": "code",
   "execution_count": 63,
   "metadata": {},
   "outputs": [
    {
     "data": {
      "text/plain": [
       "(225, 16)"
      ]
     },
     "execution_count": 63,
     "metadata": {},
     "output_type": "execute_result"
    }
   ],
   "source": [
    "#Check the final shape of the dataframe before ML Part\n",
    "result_df_pandas.shape"
   ]
  },
  {
   "cell_type": "markdown",
   "metadata": {},
   "source": [
    "# <span style=\"color:green\">Modelling </span> </h1>"
   ]
  },
  {
   "cell_type": "code",
   "execution_count": 64,
   "metadata": {},
   "outputs": [
    {
     "name": "stdout",
     "output_type": "stream",
     "text": [
      "F1 Score: 0.6434782608695653\n"
     ]
    }
   ],
   "source": [
    "# Define input columns (excluding \"userId\" and \"churn\")\n",
    "input_columns = [\"numof_ses_byuser\", \"session_valid_matrice\", \"max_time_spent_per_user\",\n",
    "                 \"next_song_by_user\", \"thumbs_up_by_user\", \"thumbs_down_by_user\", \n",
    "                 \"merged_df\", \"downgrade_by_user\", \"error_page_by_user\", \n",
    "                 \"song_valid\", \"addfriend_by_user\", \"help_by_user\", \n",
    "                 \"playlist_by_user\", \"advert_by_user\"]\n",
    "\n",
    "# Create a VectorAssembler to assemble features into a single vector\n",
    "vector_assembler = VectorAssembler(inputCols=input_columns, outputCol=\"features\")\n",
    "\n",
    "# Create a StandardScaler to normalize the input features\n",
    "scaler = StandardScaler(inputCol=\"features\", outputCol=\"scaled_features\", withMean=True, withStd=True)\n",
    "\n",
    "# Create a RandomForestClassifier model\n",
    "rf_classifier = RandomForestClassifier(labelCol=\"churn\", featuresCol=\"scaled_features\")\n",
    "\n",
    "# Create a Pipeline with stages\n",
    "pipeline = Pipeline(stages=[vector_assembler, scaler, rf_classifier])\n",
    "\n",
    "# Split the data into training and testing sets (80% train, 20% test)\n",
    "train_data, test_data = result_df.randomSplit([0.8, 0.2], seed=42)\n",
    "\n",
    "# Fit the pipeline on the training data\n",
    "model = pipeline.fit(train_data)\n",
    "\n",
    "# Make predictions on the test data\n",
    "predictions = model.transform(test_data)\n",
    "\n",
    "# Evaluate the model using F1 score\n",
    "evaluator = MulticlassClassificationEvaluator(labelCol=\"churn\", metricName=\"f1\")\n",
    "f1_score = evaluator.evaluate(predictions)\n",
    "\n",
    "# Print the F1 score\n",
    "print(f\"F1 Score: {f1_score}\")\n"
   ]
  },
  {
   "cell_type": "markdown",
   "metadata": {},
   "source": [
    "The decision to use three different machine learning algorithms (Logistic Regression, Random Forest, and Gradient-Boosted Trees) along with hyperparameter tuning instead of a single algorithm with no hyperparameters involves several considerations related to the complexity of the problem, the characteristics of the data, and the desire for a robust and accurate predictive model. Below is an explanation of why this approach was chosen:\n",
    "\n",
    "**Algorithm Diversity:**\n",
    "Different algorithms have different strengths and weaknesses. Logistic Regression is a linear model suitable for binary classification, while Random Forest and Gradient-Boosted Trees are ensemble methods that can capture non-linear relationships and interactions in the data.\n",
    "By employing multiple algorithms, we increase the chances of finding a model that is well-suited to the specific patterns present in the dataset. This diversity enhances the overall robustness of the predictive model.\n",
    "\n",
    "**Handling Non-linearity:**\n",
    "\n",
    "Churn prediction problems often involve complex, non-linear relationships between features and the target variable. Ensemble methods like Random Forest and Gradient-Boosted Trees are capable of capturing such non-linearities, providing a more nuanced representation of the underlying patterns.\n",
    "\n",
    "**Hyperparameter Tuning:**\n",
    "\n",
    "Hyperparameter tuning allows us to optimize the performance of each algorithm by finding the best combination of hyperparameter values. This process is crucial for fine-tuning the models to achieve the highest predictive accuracy.\n",
    "The inclusion of hyperparameter tuning ensures that the models are not only diverse but also individually optimized, extracting the maximum predictive power from each algorithm.\n",
    "\n",
    "**Cross-Validation:**\n",
    "\n",
    "Cross-validation is a key component of the hyperparameter tuning process. It helps prevent overfitting by assessing the model's performance on multiple subsets of the data. The use of cross-validation provides a more reliable estimate of the model's generalization performance, making the final model more robust and less prone to overfitting.\n",
    "\n",
    "**Model Comparison:**\n",
    "\n",
    "Employing multiple algorithms facilitates a comparative analysis of their performances. This comparison allows us to select the best-performing model for the specific problem at hand. The chosen evaluation metric (F1 score, in this case) helps in making an informed decision based on precision and recall considerations.\n",
    "\n",
    "**Flexibility for Future Data:**\n",
    "\n",
    "The diversity in algorithms and the use of hyperparameter tuning provide a flexible framework that can adapt to different datasets and changing conditions. This adaptability is crucial for the model to remain effective as user behavior and patterns evolve over time.\n",
    "\n",
    "In summary, the decision to use multiple machine learning algorithms with hyperparameter tuning is motivated by the desire for a robust and adaptable predictive model. This approach acknowledges the complexity of the churn prediction problem and aims to extract the best possible performance from the available data."
   ]
  },
  {
   "cell_type": "markdown",
   "metadata": {},
   "source": [
    "# <span style=\"color:green\">Last Steps: Grid Search with Cross Validation </span> </h1>"
   ]
  },
  {
   "cell_type": "code",
   "execution_count": 65,
   "metadata": {},
   "outputs": [
    {
     "name": "stdout",
     "output_type": "stream",
     "text": [
      "Logistic Regression F1 Score: 0.7118226600985221\n",
      "Random Forest F1 Score: 0.6102216748768473\n",
      "GBT F1 Score: 0.6071428571428571\n"
     ]
    }
   ],
   "source": [
    "input_cols = [\n",
    "    'numof_ses_byuser', 'session_valid_matrice', 'max_time_spent_per_user',\n",
    "    'next_song_by_user', 'thumbs_up_by_user', 'thumbs_down_by_user', 'merged_df',\n",
    "    'downgrade_by_user', 'error_page_by_user', 'song_valid', 'addfriend_by_user',\n",
    "    'help_by_user', 'playlist_by_user', 'advert_by_user'\n",
    "]\n",
    "\n",
    "output_col = 'churn'\n",
    "\n",
    "# Assemble features into a vector\n",
    "assembler = VectorAssembler(inputCols=input_cols, outputCol=\"features\")\n",
    "\n",
    "# Standardize features\n",
    "scaler = StandardScaler(inputCol=\"features\", outputCol=\"scaled_features\")\n",
    "\n",
    "# Define machine learning algorithms\n",
    "lr = LogisticRegression(featuresCol=\"scaled_features\", labelCol=output_col)\n",
    "rf = RandomForestClassifier(featuresCol=\"scaled_features\", labelCol=output_col)\n",
    "gbt = GBTClassifier(featuresCol=\"scaled_features\", labelCol=output_col)\n",
    "\n",
    "# Create a pipeline for each algorithm\n",
    "lr_pipeline = Pipeline(stages=[assembler, scaler, lr])\n",
    "rf_pipeline = Pipeline(stages=[assembler, scaler, rf])\n",
    "gbt_pipeline = Pipeline(stages=[assembler, scaler, gbt])\n",
    "\n",
    "# Define parameter grids for each algorithm\n",
    "lr_param_grid = ParamGridBuilder().addGrid(lr.regParam, [0.1, 0.01]).build()\n",
    "rf_param_grid = ParamGridBuilder().addGrid(rf.maxDepth, [5, 10]).build()\n",
    "gbt_param_grid = ParamGridBuilder().addGrid(gbt.maxDepth, [5, 10]).build()\n",
    "\n",
    "# Create evaluators\n",
    "evaluator = BinaryClassificationEvaluator(labelCol=output_col)\n",
    "\n",
    "# Perform train-test split\n",
    "train_data, test_data = result_df.randomSplit([0.8, 0.2], seed=35)\n",
    "\n",
    "# Define cross-validator for each algorithm\n",
    "lr_cv = CrossValidator(estimator=lr_pipeline, estimatorParamMaps=lr_param_grid, evaluator=evaluator, numFolds=3)\n",
    "rf_cv = CrossValidator(estimator=rf_pipeline, estimatorParamMaps=rf_param_grid, evaluator=evaluator, numFolds=3)\n",
    "gbt_cv = CrossValidator(estimator=gbt_pipeline, estimatorParamMaps=gbt_param_grid, evaluator=evaluator, numFolds=3)\n",
    "\n",
    "# Fit models\n",
    "lr_model = lr_cv.fit(train_data)\n",
    "rf_model = rf_cv.fit(train_data)\n",
    "gbt_model = gbt_cv.fit(train_data)\n",
    "\n",
    "# Make predictions\n",
    "lr_predictions = lr_model.transform(test_data)\n",
    "rf_predictions = rf_model.transform(test_data)\n",
    "gbt_predictions = gbt_model.transform(test_data)\n",
    "\n",
    "# Evaluate F1 Score\n",
    "lr_f1 = evaluator.evaluate(lr_predictions)\n",
    "rf_f1 = evaluator.evaluate(rf_predictions)\n",
    "gbt_f1 = evaluator.evaluate(gbt_predictions)\n",
    "\n",
    "# Display results\n",
    "print(\"Logistic Regression F1 Score:\", lr_f1)\n",
    "print(\"Random Forest F1 Score:\", rf_f1)\n",
    "print(\"GBT F1 Score:\", gbt_f1)\n"
   ]
  },
  {
   "cell_type": "code",
   "execution_count": 66,
   "metadata": {},
   "outputs": [],
   "source": [
    "# Access best hyperparameters\n",
    "best_lr_params = lr_model.bestModel.stages[-1].extractParamMap()\n",
    "best_rf_params = rf_model.bestModel.stages[-1].extractParamMap()\n",
    "best_gbt_params = gbt_model.bestModel.stages[-1].extractParamMap()"
   ]
  },
  {
   "cell_type": "code",
   "execution_count": 67,
   "metadata": {},
   "outputs": [
    {
     "name": "stdout",
     "output_type": "stream",
     "text": [
      "\n",
      "Best Logistic Regression Hyperparameters:\n",
      "aggregationDepth: 2\n",
      "elasticNetParam: 0.0\n",
      "family: auto\n",
      "featuresCol: scaled_features\n",
      "fitIntercept: True\n",
      "labelCol: churn\n",
      "maxBlockSizeInMB: 0.0\n",
      "maxIter: 100\n",
      "predictionCol: prediction\n",
      "probabilityCol: probability\n",
      "rawPredictionCol: rawPrediction\n",
      "regParam: 0.1\n",
      "standardization: True\n",
      "threshold: 0.5\n",
      "tol: 1e-06\n",
      "\n",
      "Best Random Forest Hyperparameters:\n",
      "bootstrap: True\n",
      "cacheNodeIds: False\n",
      "checkpointInterval: 10\n",
      "featureSubsetStrategy: auto\n",
      "featuresCol: scaled_features\n",
      "impurity: gini\n",
      "labelCol: churn\n",
      "leafCol: \n",
      "maxBins: 32\n",
      "maxDepth: 10\n",
      "maxMemoryInMB: 256\n",
      "minInfoGain: 0.0\n",
      "minInstancesPerNode: 1\n",
      "minWeightFractionPerNode: 0.0\n",
      "numTrees: 20\n",
      "predictionCol: prediction\n",
      "probabilityCol: probability\n",
      "rawPredictionCol: rawPrediction\n",
      "seed: -8327555647866404481\n",
      "subsamplingRate: 1.0\n",
      "\n",
      "Best GBT Hyperparameters:\n",
      "cacheNodeIds: False\n",
      "checkpointInterval: 10\n",
      "featureSubsetStrategy: all\n",
      "featuresCol: scaled_features\n",
      "impurity: variance\n",
      "labelCol: churn\n",
      "leafCol: \n",
      "lossType: logistic\n",
      "maxBins: 32\n",
      "maxDepth: 5\n",
      "maxIter: 20\n",
      "maxMemoryInMB: 256\n",
      "minInfoGain: 0.0\n",
      "minInstancesPerNode: 1\n",
      "minWeightFractionPerNode: 0.0\n",
      "predictionCol: prediction\n",
      "probabilityCol: probability\n",
      "rawPredictionCol: rawPrediction\n",
      "seed: -1329813415643338957\n",
      "stepSize: 0.1\n",
      "subsamplingRate: 1.0\n",
      "validationTol: 0.01\n"
     ]
    }
   ],
   "source": [
    "# Display best hyperparameters\n",
    "print(\"\\nBest Logistic Regression Hyperparameters:\")\n",
    "for param, value in best_lr_params.items():\n",
    "    print(f\"{param.name}: {value}\")\n",
    "\n",
    "print(\"\\nBest Random Forest Hyperparameters:\")\n",
    "for param, value in best_rf_params.items():\n",
    "    print(f\"{param.name}: {value}\")\n",
    "\n",
    "print(\"\\nBest GBT Hyperparameters:\")\n",
    "for param, value in best_gbt_params.items():\n",
    "    print(f\"{param.name}: {value}\")"
   ]
  },
  {
   "cell_type": "code",
   "execution_count": null,
   "metadata": {},
   "outputs": [],
   "source": [
    "# Close the Spark session\n",
    "spark.stop()"
   ]
  }
 ],
 "metadata": {
  "kernelspec": {
   "display_name": "Sparkify",
   "language": "python",
   "name": "sparkify"
  },
  "language_info": {
   "codemirror_mode": {
    "name": "ipython",
    "version": 3
   },
   "file_extension": ".py",
   "mimetype": "text/x-python",
   "name": "python",
   "nbconvert_exporter": "python",
   "pygments_lexer": "ipython3",
   "version": "3.11.5"
  }
 },
 "nbformat": 4,
 "nbformat_minor": 2
}
